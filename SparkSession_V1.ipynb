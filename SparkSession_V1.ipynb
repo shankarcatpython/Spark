{
  "nbformat": 4,
  "nbformat_minor": 0,
  "metadata": {
    "colab": {
      "private_outputs": true,
      "provenance": [],
      "authorship_tag": "ABX9TyPDM3aYzHoq4bC8U7UZVa7z"
    },
    "kernelspec": {
      "name": "python3",
      "display_name": "Python 3"
    },
    "language_info": {
      "name": "python"
    }
  },
  "cells": [
    {
      "cell_type": "code",
      "execution_count": null,
      "metadata": {
        "id": "sq3CgtOl0w80"
      },
      "outputs": [],
      "source": [
        "# prompt: import spark , create a spark session and read the califorina test file from location \"/content/sample_data\"\n",
        "\n",
        "!pip install pyspark\n",
        "\n",
        "from pyspark.sql import SparkSession\n",
        "\n",
        "spark = SparkSession.builder.appName(\"California Test\").getOrCreate()\n"
      ]
    },
    {
      "cell_type": "code",
      "source": [
        "# Get the California test file from Colab's sample_data directory\n",
        "df = spark.read.csv(r\"/content/sample_data/california_housing_test.csv\", header=True, inferSchema=True)\n",
        "\n",
        "# Print the schema of the DataFrame\n",
        "df.printSchema()\n"
      ],
      "metadata": {
        "id": "YUxwLfPJ1rO-"
      },
      "execution_count": null,
      "outputs": []
    },
    {
      "cell_type": "code",
      "source": [
        "# prompt: display spark session properties and config\n",
        "spark.sparkContext.getConf().getAll()"
      ],
      "metadata": {
        "id": "8NOmUrj02Jjt"
      },
      "execution_count": null,
      "outputs": []
    },
    {
      "cell_type": "code",
      "source": [
        "# prompt: get all spark session properties\n",
        "\n",
        "properties = spark.sparkContext.getConf().getAll()\n",
        "for property in properties:\n",
        "  print(f\"{property[0]}: {property[1]}\")\n"
      ],
      "metadata": {
        "id": "6lNfqEsK2ebq"
      },
      "execution_count": null,
      "outputs": []
    },
    {
      "cell_type": "code",
      "source": [
        "# prompt: how many nodes are running\n",
        "\n",
        "# Get the number of active worker nodes in the cluster\n",
        "num_workers = spark._jsc.sc().getExecutorMemoryStatus().keySet().size()\n",
        "\n",
        "print(f\"Number of worker nodes running: {num_workers}\")\n"
      ],
      "metadata": {
        "id": "FYPGV3WV4PXN"
      },
      "execution_count": null,
      "outputs": []
    },
    {
      "cell_type": "code",
      "source": [
        "# prompt: number of partitions\n",
        "\n",
        "# Get the number of partitions in the DataFrame\n",
        "num_partitions = df.rdd.getNumPartitions()\n",
        "\n",
        "print(f\"Number of partitions: {num_partitions}\")\n"
      ],
      "metadata": {
        "id": "2d5W3F4J4WZ-"
      },
      "execution_count": null,
      "outputs": []
    },
    {
      "cell_type": "code",
      "source": [
        "# prompt: repartition the dataframe\n",
        "\n",
        "df = df.repartition(4)\n"
      ],
      "metadata": {
        "id": "MCnkcfty-H-2"
      },
      "execution_count": null,
      "outputs": []
    },
    {
      "cell_type": "code",
      "source": [
        "# prompt: Number of partitions\n",
        "\n",
        "print(f\"Number of partitions after repartition: {df.rdd.getNumPartitions()}\")\n"
      ],
      "metadata": {
        "id": "tu5W7HAT-0fF"
      },
      "execution_count": null,
      "outputs": []
    },
    {
      "cell_type": "code",
      "source": [
        "# prompt: builder.master properties\n",
        "\n",
        "builder_properties = spark.sparkContext.getConf().getAll()\n",
        "for property in builder_properties:\n",
        "  if \"spark.master\" in property[0]:\n",
        "    print(f\"{property[0]}: {property[1]}\")\n"
      ],
      "metadata": {
        "id": "mmPQEUzc-2A9"
      },
      "execution_count": null,
      "outputs": []
    },
    {
      "cell_type": "code",
      "source": [
        "# prompt: getActiveSession\n",
        "\n",
        "active_session = spark._jsparkSession\n",
        "print(f\"Active SparkSession: {active_session}\")\n"
      ],
      "metadata": {
        "id": "iHop7XiU_X_8"
      },
      "execution_count": null,
      "outputs": []
    },
    {
      "cell_type": "code",
      "source": [
        "# prompt: list available tables\n",
        "\n",
        "# Get the list of tables in the current database\n",
        "tables = spark.catalog.listTables()\n",
        "\n",
        "# Print the list of tables\n",
        "for table in tables:\n",
        "  print(table.name)\n"
      ],
      "metadata": {
        "id": "P71GvPzv_lqV"
      },
      "execution_count": null,
      "outputs": []
    },
    {
      "cell_type": "code",
      "source": [
        "# prompt: create a new table from dataframe\n",
        "\n",
        "df.write.saveAsTable(\"california_housing_1\")\n",
        "\n",
        "# Check if the table exists in the catalog\n",
        "table_exists = spark.catalog.tableExists(\"california_housing_1\")\n",
        "\n",
        "if table_exists:\n",
        "    print(\"Table 'california_housing' created successfully.\")\n",
        "else:\n",
        "    print(\"Failed to create table 'california_housing_1'.\")\n"
      ],
      "metadata": {
        "id": "-y5ZliBn_2hi"
      },
      "execution_count": null,
      "outputs": []
    },
    {
      "cell_type": "code",
      "source": [
        "# prompt: list available tables in spark session\n",
        "\n",
        "tables = spark.catalog.listTables()\n",
        "\n",
        "for table in tables:\n",
        "  print(table.name)\n"
      ],
      "metadata": {
        "id": "Brdj_73vAGtJ"
      },
      "execution_count": null,
      "outputs": []
    },
    {
      "cell_type": "code",
      "source": [
        "# prompt: print schema of california_housing table\n",
        "\n",
        "df = spark.table(\"california_housing_1\")\n",
        "df.printSchema()\n"
      ],
      "metadata": {
        "id": "PO25BB4ZAL_7"
      },
      "execution_count": null,
      "outputs": []
    },
    {
      "cell_type": "code",
      "source": [
        "# prompt: DataframeReader writer\n",
        "\n",
        "df.write.format(\"csv\").option(\"header\", \"true\").save(\"welldone_california_housing_csv_1\")\n"
      ],
      "metadata": {
        "id": "tgR89ugrAjUh"
      },
      "execution_count": null,
      "outputs": []
    },
    {
      "cell_type": "code",
      "source": [
        "# prompt: DataframeReader from wellcone california housing csv\n",
        "\n",
        "df = spark.read.format(\"csv\").option(\"header\", \"true\").load(\"welldone_california_housing_csv\")\n",
        "df.printSchema()\n"
      ],
      "metadata": {
        "id": "PWLnqPCOAvQS"
      },
      "execution_count": null,
      "outputs": []
    }
  ]
}