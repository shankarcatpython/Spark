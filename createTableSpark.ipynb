{
  "nbformat": 4,
  "nbformat_minor": 0,
  "metadata": {
    "colab": {
      "private_outputs": true,
      "provenance": [],
      "authorship_tag": "ABX9TyOYrF23iuSE9Cfq2afQFcPq"
    },
    "kernelspec": {
      "name": "python3",
      "display_name": "Python 3"
    },
    "language_info": {
      "name": "python"
    }
  },
  "cells": [
    {
      "cell_type": "code",
      "execution_count": null,
      "metadata": {
        "id": "XvOuXQWZAdOR"
      },
      "outputs": [],
      "source": [
        "! pip install pyspark"
      ]
    },
    {
      "cell_type": "code",
      "source": [
        "from pyspark.sql import SparkSession\n",
        "\n",
        "spark = SparkSession.builder.appName(\"Tables\").getOrCreate()"
      ],
      "metadata": {
        "id": "BSJHyP5IAk8U"
      },
      "execution_count": null,
      "outputs": []
    },
    {
      "cell_type": "code",
      "source": [
        "truncate_table_datasource_parquet = \"\"\"\n",
        "TRUNCATE TABLE student_parquet\n",
        "\"\"\"\n",
        "\n",
        "spark.sql(truncate_table_datasource_parquet)"
      ],
      "metadata": {
        "id": "tVMjowOVXXvx"
      },
      "execution_count": null,
      "outputs": []
    },
    {
      "cell_type": "code",
      "source": [
        "Drop_table_datasource_parquet= \"\"\"\n",
        "DROP TABLE IF EXISTS student_parquet\n",
        "\"\"\"\n",
        "spark.sql(Drop_table_datasource_parquet)\n",
        "\n",
        "#-----------------------------------------------------------------"
      ],
      "metadata": {
        "id": "IMeczVstXZM3"
      },
      "execution_count": null,
      "outputs": []
    },
    {
      "cell_type": "code",
      "source": [
        "\n",
        "truncate_table_datasource_like = \"\"\"\n",
        "TRUNCATE TABLE student_like\n",
        "\"\"\"\n",
        "spark.sql(truncate_table_datasource_like)"
      ],
      "metadata": {
        "id": "Uj0t8rvGXarz"
      },
      "execution_count": null,
      "outputs": []
    },
    {
      "cell_type": "code",
      "source": [
        "Drop_table_datasource_like = \"\"\"\n",
        "DROP TABLE IF EXISTS student_like\n",
        "\"\"\"\n",
        "spark.sql(Drop_table_datasource_like)\n",
        "\n",
        "#-----------------------------------------------------------------"
      ],
      "metadata": {
        "id": "CJ6xOgz4Xcga"
      },
      "execution_count": null,
      "outputs": []
    },
    {
      "cell_type": "code",
      "source": [
        "truncate_table_datasource_csv = \"\"\"\n",
        "TRUNCATE TABLE student\n",
        "\"\"\"\n",
        "spark.sql(truncate_table_datasource_csv)"
      ],
      "metadata": {
        "id": "RUnIApEjXd-n"
      },
      "execution_count": null,
      "outputs": []
    },
    {
      "cell_type": "code",
      "source": [
        "Drop_table_datasource_csv = \"\"\"\n",
        "DROP TABLE IF EXISTS student\n",
        "\"\"\"\n",
        "spark.sql(Drop_table_datasource_csv)\n",
        "\n",
        "\n",
        "#-----------------------------------------------------------------"
      ],
      "metadata": {
        "id": "3rlZSJv2Xfni"
      },
      "execution_count": null,
      "outputs": []
    },
    {
      "cell_type": "code",
      "source": [
        "create_table_datasource_csv = \"\"\"\n",
        "CREATE TABLE IF NOT EXISTS student\n",
        "(id INT,name STRING,age INT)\n",
        "USING CSV\n",
        "PARTITIONED BY (name)\n",
        "CLUSTERED BY (age)\n",
        "SORTED BY (id ASC) INTO 2 BUCKETS\n",
        ";\n",
        "\"\"\"\n",
        "\n",
        "spark.sql(create_table_datasource_csv)\n",
        "\n",
        "#-----------------------------------------------------------------"
      ],
      "metadata": {
        "id": "1Cy0rbbeXjwC"
      },
      "execution_count": null,
      "outputs": []
    },
    {
      "cell_type": "code",
      "source": [
        "create_table_datasource_parquet = \"\"\"\n",
        "CREATE TABLE IF NOT EXISTS student_parquet\n",
        "USING parquet\n",
        "AS SELECT * FROM student\n",
        ";\n",
        "\"\"\"\n",
        "\n",
        "spark.sql(create_table_datasource_parquet)\n",
        "\n",
        "#-----------------------------------------------------------------"
      ],
      "metadata": {
        "id": "8_TIT-f6XlbI"
      },
      "execution_count": null,
      "outputs": []
    },
    {
      "cell_type": "code",
      "source": [
        "create_table_like = \"\"\"\n",
        "CREATE TABLE IF NOT EXISTS student_like LIKE student_parquet\n",
        ";\n",
        "\"\"\"\n",
        "spark.sql(create_table_like)\n"
      ],
      "metadata": {
        "id": "EUSf6YQzXpZy"
      },
      "execution_count": null,
      "outputs": []
    },
    {
      "cell_type": "code",
      "source": [
        "show_table = \"\"\"\n",
        "DESCRIBE TABLE student_like\n",
        ";\n",
        "\"\"\"\n",
        "spark.sql(show_table).show()"
      ],
      "metadata": {
        "id": "_RVhgYBgWApC"
      },
      "execution_count": null,
      "outputs": []
    },
    {
      "cell_type": "code",
      "source": [
        "import random\n",
        "\n",
        "name_list = [\"s1\",\"s2\",\"s3\"]\n",
        "\n",
        "for i in range(1,3):\n",
        "  val=random.choice(name_list)\n",
        "  insert_table_datasource_csv = f\"\"\"\n",
        "  INSERT INTO student values ({i},{i*10},'{str(val)}')\n",
        "  \"\"\"\n",
        "  spark.sql(insert_table_datasource_csv)"
      ],
      "metadata": {
        "id": "5tYmCFy3XshR"
      },
      "execution_count": null,
      "outputs": []
    },
    {
      "cell_type": "code",
      "source": [
        "for i in range(1,3):\n",
        "  val=random.choice(name_list)\n",
        "  insert_table_datasource_csv = f\"\"\"\n",
        "  INSERT INTO student_parquet values ({i},{i*10},'{str(val)}')\n",
        "  \"\"\"\n",
        "  spark.sql(insert_table_datasource_csv)\n"
      ],
      "metadata": {
        "id": "s8WNZc__XvCM"
      },
      "execution_count": null,
      "outputs": []
    },
    {
      "cell_type": "code",
      "source": [
        "\n",
        "for i in range(1,3):\n",
        "  val=random.choice(name_list)\n",
        "  insert_table_datasource_csv = f\"\"\"\n",
        "  INSERT INTO student_like values ({i},{i*10},'{str(val)}')\n",
        "  \"\"\"\n",
        "  spark.sql(insert_table_datasource_csv)\n"
      ],
      "metadata": {
        "id": "Kk4LUVI4DMlH"
      },
      "execution_count": null,
      "outputs": []
    }
  ]
}