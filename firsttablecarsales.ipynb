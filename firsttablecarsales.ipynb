{
  "nbformat": 4,
  "nbformat_minor": 0,
  "metadata": {
    "colab": {
      "private_outputs": true,
      "provenance": [],
      "authorship_tag": "ABX9TyM2s34sI2WaKYEoZJLQb2ts"
    },
    "kernelspec": {
      "name": "python3",
      "display_name": "Python 3"
    },
    "language_info": {
      "name": "python"
    }
  },
  "cells": [
    {
      "cell_type": "code",
      "execution_count": null,
      "metadata": {
        "id": "2ccnFX-8QL0o"
      },
      "outputs": [],
      "source": [
        "import pandas as pd\n",
        "car_dataframe = pd.read_csv(r'/content/car_prices.csv')"
      ]
    },
    {
      "cell_type": "code",
      "source": [
        "%%sh\n",
        "pwd"
      ],
      "metadata": {
        "id": "Qj4v_GwGQRun"
      },
      "execution_count": null,
      "outputs": []
    },
    {
      "cell_type": "code",
      "source": [
        "! pip install pyspark"
      ],
      "metadata": {
        "id": "2254o7m7RNZY"
      },
      "execution_count": null,
      "outputs": []
    },
    {
      "cell_type": "code",
      "source": [
        "from pyspark.sql import SparkSession\n",
        "from pyspark.sql.types import StructType, StructField, StringType, IntegerType\n",
        "spark = SparkSession.builder.appName(\"my_app\").getOrCreate()\n",
        "schema_car = StructType([StructField(\"year\", StringType(), True)\n",
        " ,StructField(\"make\", StringType(), True)\n",
        " ,StructField(\"model\", StringType(), True)\n",
        " ,StructField(\"trim\", StringType(), True)\n",
        " ,StructField(\"body\", StringType(), True)\n",
        " ,StructField(\"transmission\", StringType(), True)\n",
        " ,StructField(\"vin\", StringType(), True)\n",
        " ,StructField(\"state\", StringType(), True)\n",
        " ,StructField(\"condition\", IntegerType(), True)\n",
        " ,StructField(\"odometer\", IntegerType(), True)\n",
        " ,StructField(\"color\", StringType(), True)\n",
        " ,StructField(\"interior\", StringType(), True)\n",
        " ,StructField(\"seller\", StringType(), True)\n",
        " ,StructField(\"mmr\", IntegerType(), True)\n",
        " ,StructField(\"sellingprice\", IntegerType(), True)\n",
        " ,StructField(\"saledate\", StringType(), True)\n",
        "])\n",
        "\n",
        "spark_cardataframe = spark.read.option(\"header\", True).csv(r'/content/car_prices.csv',schema=schema_car)"
      ],
      "metadata": {
        "id": "NnhLJqeSRju2"
      },
      "execution_count": null,
      "outputs": []
    },
    {
      "cell_type": "code",
      "source": [
        "spark_cardataframe.printSchema()\n",
        "spark_cardataframe.show(n=2,vertical=True,truncate=150)"
      ],
      "metadata": {
        "id": "c--Yk4C2UnYE"
      },
      "execution_count": null,
      "outputs": []
    },
    {
      "cell_type": "code",
      "source": [
        "database_query =\"CREATE DATABASE IF NOT EXISTS sales_db COMMENT 'comments' LOCATION '/sales' WITH DBPROPERTIES (ID=001, Name='Sales');\"\n",
        "\n",
        "result = spark.sql(database_query)\n",
        "result.show()"
      ],
      "metadata": {
        "id": "dQ97G1srh417"
      },
      "execution_count": null,
      "outputs": []
    },
    {
      "cell_type": "code",
      "source": [
        "table_query ='''CREATE TABLE IF NOT EXISTS sales_db.car_sales(year STRING\n",
        ",make STRING\n",
        ",model STRING\n",
        ",trim STRING\n",
        ",body STRING\n",
        ",transmission STRING\n",
        ",vin STRING\n",
        ",state STRING\n",
        ",condition INT\n",
        ",odometer INT\n",
        ",color STRING\n",
        ",interior STRING\n",
        ",seller STRING\n",
        ",mmr INT\n",
        ",sellingprice INT\n",
        ",saledate STRING) USING PARQUET;'''"
      ],
      "metadata": {
        "id": "IcgUAZbikSAw"
      },
      "execution_count": null,
      "outputs": []
    },
    {
      "cell_type": "code",
      "source": [
        "\n",
        "result = spark.sql(table_query)\n",
        "result.show()"
      ],
      "metadata": {
        "id": "YzZ-_ThplM-s"
      },
      "execution_count": null,
      "outputs": []
    },
    {
      "cell_type": "code",
      "source": [
        "car_dataframe.createOrReplaceTempView(\"car_sales_test\")\n",
        "car_dataframe.createOrReplaceTempView(\"car_sales_test\")"
      ],
      "metadata": {
        "id": "DsUuRfwwlVAk"
      },
      "execution_count": null,
      "outputs": []
    },
    {
      "cell_type": "code",
      "source": [],
      "metadata": {
        "id": "2nqfOgZwljpQ"
      },
      "execution_count": null,
      "outputs": []
    }
  ]
}