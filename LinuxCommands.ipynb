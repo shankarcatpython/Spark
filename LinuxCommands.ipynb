{
  "nbformat": 4,
  "nbformat_minor": 0,
  "metadata": {
    "colab": {
      "provenance": [],
      "authorship_tag": "ABX9TyPA51Z72TIozxm1QETWVnqF"
    },
    "kernelspec": {
      "name": "python3",
      "display_name": "Python 3"
    },
    "language_info": {
      "name": "python"
    }
  },
  "cells": [
    {
      "cell_type": "code",
      "source": [
        "# Print Working Directory\n",
        "! pwd"
      ],
      "metadata": {
        "colab": {
          "base_uri": "https://localhost:8080/"
        },
        "id": "VWJ_GALlp0rL",
        "outputId": "13c8b974-fb8e-4f8b-a0cf-f03f06114b04"
      },
      "execution_count": 44,
      "outputs": [
        {
          "output_type": "stream",
          "name": "stdout",
          "text": [
            "/content\n"
          ]
        }
      ]
    },
    {
      "cell_type": "code",
      "source": [
        "# Create a file\n",
        "! touch firstfile.txt"
      ],
      "metadata": {
        "id": "6r-5qItUp9q3"
      },
      "execution_count": 45,
      "outputs": []
    },
    {
      "cell_type": "code",
      "source": [
        "! ls"
      ],
      "metadata": {
        "colab": {
          "base_uri": "https://localhost:8080/"
        },
        "id": "Sd9HvGwDqSS7",
        "outputId": "54d2ae0a-5c94-4de7-aa1a-e44e26427728"
      },
      "execution_count": 46,
      "outputs": [
        {
          "output_type": "stream",
          "name": "stdout",
          "text": [
            "fileinfuture.txt  firstinternaldirecotry  samplefile_2\ttest10\ttest4  test7\n",
            "firstdirectory\t  sample_data\t\t  samplefile_3\ttest2\ttest5  test8\n",
            "firstfile.txt\t  sample_file1\t\t  test1\t\ttest3\ttest6  test9\n"
          ]
        }
      ]
    },
    {
      "cell_type": "code",
      "source": [
        "! ls -l"
      ],
      "metadata": {
        "colab": {
          "base_uri": "https://localhost:8080/"
        },
        "id": "qrwNDR7rqYUj",
        "outputId": "d1ec8919-82f9-4dc5-f7ca-bb568fbdc5fc"
      },
      "execution_count": 47,
      "outputs": [
        {
          "output_type": "stream",
          "name": "stdout",
          "text": [
            "total 16\n",
            "-rw-r--r-- 1 root root    0 Feb 11  2024 fileinfuture.txt\n",
            "drwxr-xr-x 2 root root 4096 Feb 10 06:25 firstdirectory\n",
            "-rw-r--r-- 1 root root    0 Feb 10 06:36 firstfile.txt\n",
            "drwxr-xr-x 2 root root 4096 Feb 10 06:27 firstinternaldirecotry\n",
            "drwxr-xr-x 1 root root 4096 Feb  8 14:21 sample_data\n",
            "-rw-r--r-- 1 root root    0 Feb 10 06:18 sample_file1\n",
            "-rw-r--r-- 1 root root    0 Feb 10 06:18 samplefile_2\n",
            "-rw-r--r-- 1 root root    0 Feb 10 06:18 samplefile_3\n",
            "-rw-r--r-- 1 root root   26 Feb 10 06:23 test1\n",
            "-rw-r--r-- 1 root root    0 Feb 10 06:19 test10\n",
            "-rw-r--r-- 1 root root    0 Feb 10 06:19 test2\n",
            "-rw-r--r-- 1 root root    0 Feb 10 06:19 test3\n",
            "-rw-r--r-- 1 root root    0 Feb 10 06:19 test4\n",
            "-rw-r--r-- 1 root root    0 Feb 10 06:19 test5\n",
            "-rw-r--r-- 1 root root    0 Feb 10 06:19 test6\n",
            "-rw-r--r-- 1 root root    0 Feb 10 06:19 test7\n",
            "-rw-r--r-- 1 root root    0 Feb 10 06:19 test8\n",
            "-rw-r--r-- 1 root root    0 Feb 10 06:19 test9\n"
          ]
        }
      ]
    },
    {
      "cell_type": "code",
      "source": [
        "! ls -lh"
      ],
      "metadata": {
        "colab": {
          "base_uri": "https://localhost:8080/"
        },
        "id": "RJBqUISEqaXu",
        "outputId": "054be8eb-1292-4aab-e70a-a68afbd96d80"
      },
      "execution_count": 48,
      "outputs": [
        {
          "output_type": "stream",
          "name": "stdout",
          "text": [
            "total 16K\n",
            "-rw-r--r-- 1 root root    0 Feb 11  2024 fileinfuture.txt\n",
            "drwxr-xr-x 2 root root 4.0K Feb 10 06:25 firstdirectory\n",
            "-rw-r--r-- 1 root root    0 Feb 10 06:36 firstfile.txt\n",
            "drwxr-xr-x 2 root root 4.0K Feb 10 06:27 firstinternaldirecotry\n",
            "drwxr-xr-x 1 root root 4.0K Feb  8 14:21 sample_data\n",
            "-rw-r--r-- 1 root root    0 Feb 10 06:18 sample_file1\n",
            "-rw-r--r-- 1 root root    0 Feb 10 06:18 samplefile_2\n",
            "-rw-r--r-- 1 root root    0 Feb 10 06:18 samplefile_3\n",
            "-rw-r--r-- 1 root root   26 Feb 10 06:23 test1\n",
            "-rw-r--r-- 1 root root    0 Feb 10 06:19 test10\n",
            "-rw-r--r-- 1 root root    0 Feb 10 06:19 test2\n",
            "-rw-r--r-- 1 root root    0 Feb 10 06:19 test3\n",
            "-rw-r--r-- 1 root root    0 Feb 10 06:19 test4\n",
            "-rw-r--r-- 1 root root    0 Feb 10 06:19 test5\n",
            "-rw-r--r-- 1 root root    0 Feb 10 06:19 test6\n",
            "-rw-r--r-- 1 root root    0 Feb 10 06:19 test7\n",
            "-rw-r--r-- 1 root root    0 Feb 10 06:19 test8\n",
            "-rw-r--r-- 1 root root    0 Feb 10 06:19 test9\n"
          ]
        }
      ]
    },
    {
      "cell_type": "code",
      "source": [
        "# Show all hidden files\n",
        "! ls -la"
      ],
      "metadata": {
        "colab": {
          "base_uri": "https://localhost:8080/"
        },
        "id": "mdqGffMQqdQh",
        "outputId": "6d7fc997-39a4-4db6-e589-8ce87b0c8334"
      },
      "execution_count": 49,
      "outputs": [
        {
          "output_type": "stream",
          "name": "stdout",
          "text": [
            "total 28\n",
            "drwxr-xr-x 1 root root 4096 Feb 10 06:27 .\n",
            "drwxr-xr-x 1 root root 4096 Feb 10 06:12 ..\n",
            "drwxr-xr-x 4 root root 4096 Feb  8 14:20 .config\n",
            "-rw-r--r-- 1 root root    0 Feb 11  2024 fileinfuture.txt\n",
            "drwxr-xr-x 2 root root 4096 Feb 10 06:25 firstdirectory\n",
            "-rw-r--r-- 1 root root    0 Feb 10 06:36 firstfile.txt\n",
            "drwxr-xr-x 2 root root 4096 Feb 10 06:27 firstinternaldirecotry\n",
            "drwxr-xr-x 1 root root 4096 Feb  8 14:21 sample_data\n",
            "-rw-r--r-- 1 root root    0 Feb 10 06:18 sample_file1\n",
            "-rw-r--r-- 1 root root    0 Feb 10 06:18 samplefile_2\n",
            "-rw-r--r-- 1 root root    0 Feb 10 06:18 samplefile_3\n",
            "-rw-r--r-- 1 root root   26 Feb 10 06:23 test1\n",
            "-rw-r--r-- 1 root root    0 Feb 10 06:19 test10\n",
            "-rw-r--r-- 1 root root    0 Feb 10 06:19 test2\n",
            "-rw-r--r-- 1 root root    0 Feb 10 06:19 test3\n",
            "-rw-r--r-- 1 root root    0 Feb 10 06:19 test4\n",
            "-rw-r--r-- 1 root root    0 Feb 10 06:19 test5\n",
            "-rw-r--r-- 1 root root    0 Feb 10 06:19 test6\n",
            "-rw-r--r-- 1 root root    0 Feb 10 06:19 test7\n",
            "-rw-r--r-- 1 root root    0 Feb 10 06:19 test8\n",
            "-rw-r--r-- 1 root root    0 Feb 10 06:19 test9\n"
          ]
        }
      ]
    },
    {
      "cell_type": "code",
      "source": [
        "! touch sample_file1 samplefile_2 samplefile_3"
      ],
      "metadata": {
        "id": "9v0-9FHOqlO4"
      },
      "execution_count": 50,
      "outputs": []
    },
    {
      "cell_type": "code",
      "source": [
        "! ls -lh"
      ],
      "metadata": {
        "colab": {
          "base_uri": "https://localhost:8080/"
        },
        "id": "w-K1-QHnqvdg",
        "outputId": "21d411f6-832c-402d-fb27-d40e6dddcce0"
      },
      "execution_count": 51,
      "outputs": [
        {
          "output_type": "stream",
          "name": "stdout",
          "text": [
            "total 16K\n",
            "-rw-r--r-- 1 root root    0 Feb 11  2024 fileinfuture.txt\n",
            "drwxr-xr-x 2 root root 4.0K Feb 10 06:25 firstdirectory\n",
            "-rw-r--r-- 1 root root    0 Feb 10 06:36 firstfile.txt\n",
            "drwxr-xr-x 2 root root 4.0K Feb 10 06:27 firstinternaldirecotry\n",
            "drwxr-xr-x 1 root root 4.0K Feb  8 14:21 sample_data\n",
            "-rw-r--r-- 1 root root    0 Feb 10 06:36 sample_file1\n",
            "-rw-r--r-- 1 root root    0 Feb 10 06:36 samplefile_2\n",
            "-rw-r--r-- 1 root root    0 Feb 10 06:36 samplefile_3\n",
            "-rw-r--r-- 1 root root   26 Feb 10 06:23 test1\n",
            "-rw-r--r-- 1 root root    0 Feb 10 06:19 test10\n",
            "-rw-r--r-- 1 root root    0 Feb 10 06:19 test2\n",
            "-rw-r--r-- 1 root root    0 Feb 10 06:19 test3\n",
            "-rw-r--r-- 1 root root    0 Feb 10 06:19 test4\n",
            "-rw-r--r-- 1 root root    0 Feb 10 06:19 test5\n",
            "-rw-r--r-- 1 root root    0 Feb 10 06:19 test6\n",
            "-rw-r--r-- 1 root root    0 Feb 10 06:19 test7\n",
            "-rw-r--r-- 1 root root    0 Feb 10 06:19 test8\n",
            "-rw-r--r-- 1 root root    0 Feb 10 06:19 test9\n"
          ]
        }
      ]
    },
    {
      "cell_type": "code",
      "source": [
        "# Creat multiples files with a same command\n",
        "! touch test{1..10}"
      ],
      "metadata": {
        "id": "VptuIDJKqyfB"
      },
      "execution_count": 52,
      "outputs": []
    },
    {
      "cell_type": "code",
      "source": [
        "! ls -lh"
      ],
      "metadata": {
        "colab": {
          "base_uri": "https://localhost:8080/"
        },
        "id": "VvyKCqDzq88-",
        "outputId": "3416ca65-0d37-44a7-bba8-2c6e0914201f"
      },
      "execution_count": 53,
      "outputs": [
        {
          "output_type": "stream",
          "name": "stdout",
          "text": [
            "total 16K\n",
            "-rw-r--r-- 1 root root    0 Feb 11  2024 fileinfuture.txt\n",
            "drwxr-xr-x 2 root root 4.0K Feb 10 06:25 firstdirectory\n",
            "-rw-r--r-- 1 root root    0 Feb 10 06:36 firstfile.txt\n",
            "drwxr-xr-x 2 root root 4.0K Feb 10 06:27 firstinternaldirecotry\n",
            "drwxr-xr-x 1 root root 4.0K Feb  8 14:21 sample_data\n",
            "-rw-r--r-- 1 root root    0 Feb 10 06:36 sample_file1\n",
            "-rw-r--r-- 1 root root    0 Feb 10 06:36 samplefile_2\n",
            "-rw-r--r-- 1 root root    0 Feb 10 06:36 samplefile_3\n",
            "-rw-r--r-- 1 root root   26 Feb 10 06:36 test1\n",
            "-rw-r--r-- 1 root root    0 Feb 10 06:36 test10\n",
            "-rw-r--r-- 1 root root    0 Feb 10 06:36 test2\n",
            "-rw-r--r-- 1 root root    0 Feb 10 06:36 test3\n",
            "-rw-r--r-- 1 root root    0 Feb 10 06:36 test4\n",
            "-rw-r--r-- 1 root root    0 Feb 10 06:36 test5\n",
            "-rw-r--r-- 1 root root    0 Feb 10 06:36 test6\n",
            "-rw-r--r-- 1 root root    0 Feb 10 06:36 test7\n",
            "-rw-r--r-- 1 root root    0 Feb 10 06:36 test8\n",
            "-rw-r--r-- 1 root root    0 Feb 10 06:36 test9\n"
          ]
        }
      ]
    },
    {
      "cell_type": "code",
      "source": [
        "# create a file for tomorrow\n",
        "! touch -d tomorrow fileinfuture.txt"
      ],
      "metadata": {
        "id": "OlFrizQKq-98"
      },
      "execution_count": 54,
      "outputs": []
    },
    {
      "cell_type": "code",
      "source": [
        "! ls -lh"
      ],
      "metadata": {
        "colab": {
          "base_uri": "https://localhost:8080/"
        },
        "id": "aA-_zRGarKRe",
        "outputId": "ae2d5806-c558-43cf-fdb2-19da6a21e35a"
      },
      "execution_count": 55,
      "outputs": [
        {
          "output_type": "stream",
          "name": "stdout",
          "text": [
            "total 16K\n",
            "-rw-r--r-- 1 root root    0 Feb 11  2024 fileinfuture.txt\n",
            "drwxr-xr-x 2 root root 4.0K Feb 10 06:25 firstdirectory\n",
            "-rw-r--r-- 1 root root    0 Feb 10 06:36 firstfile.txt\n",
            "drwxr-xr-x 2 root root 4.0K Feb 10 06:27 firstinternaldirecotry\n",
            "drwxr-xr-x 1 root root 4.0K Feb  8 14:21 sample_data\n",
            "-rw-r--r-- 1 root root    0 Feb 10 06:36 sample_file1\n",
            "-rw-r--r-- 1 root root    0 Feb 10 06:36 samplefile_2\n",
            "-rw-r--r-- 1 root root    0 Feb 10 06:36 samplefile_3\n",
            "-rw-r--r-- 1 root root   26 Feb 10 06:36 test1\n",
            "-rw-r--r-- 1 root root    0 Feb 10 06:36 test10\n",
            "-rw-r--r-- 1 root root    0 Feb 10 06:36 test2\n",
            "-rw-r--r-- 1 root root    0 Feb 10 06:36 test3\n",
            "-rw-r--r-- 1 root root    0 Feb 10 06:36 test4\n",
            "-rw-r--r-- 1 root root    0 Feb 10 06:36 test5\n",
            "-rw-r--r-- 1 root root    0 Feb 10 06:36 test6\n",
            "-rw-r--r-- 1 root root    0 Feb 10 06:36 test7\n",
            "-rw-r--r-- 1 root root    0 Feb 10 06:36 test8\n",
            "-rw-r--r-- 1 root root    0 Feb 10 06:36 test9\n"
          ]
        }
      ]
    },
    {
      "cell_type": "code",
      "source": [
        "! echo \"Text\""
      ],
      "metadata": {
        "colab": {
          "base_uri": "https://localhost:8080/"
        },
        "id": "BgMCj3ISrLsz",
        "outputId": "459dd8a0-8f6f-4a3c-f9b9-6239634969f3"
      },
      "execution_count": 56,
      "outputs": [
        {
          "output_type": "stream",
          "name": "stdout",
          "text": [
            "Text\n"
          ]
        }
      ]
    },
    {
      "cell_type": "code",
      "source": [
        "! echo \"get in to first test file\" > test1"
      ],
      "metadata": {
        "id": "eBUAL1KDr3zH"
      },
      "execution_count": 57,
      "outputs": []
    },
    {
      "cell_type": "code",
      "source": [
        "! cat test1"
      ],
      "metadata": {
        "colab": {
          "base_uri": "https://localhost:8080/"
        },
        "id": "YhdJdqA3r9UL",
        "outputId": "d7e53198-3831-4a70-8e4e-3b1b59c688ee"
      },
      "execution_count": 58,
      "outputs": [
        {
          "output_type": "stream",
          "name": "stdout",
          "text": [
            "get in to first test file\n"
          ]
        }
      ]
    },
    {
      "cell_type": "code",
      "source": [
        "! cd /"
      ],
      "metadata": {
        "id": "crpF20b_r_jy"
      },
      "execution_count": 59,
      "outputs": []
    },
    {
      "cell_type": "code",
      "source": [
        "! pwd"
      ],
      "metadata": {
        "colab": {
          "base_uri": "https://localhost:8080/"
        },
        "id": "mLM7-zpesE2Z",
        "outputId": "0635e23d-99b7-4c47-d982-2698509b33d3"
      },
      "execution_count": 60,
      "outputs": [
        {
          "output_type": "stream",
          "name": "stdout",
          "text": [
            "/content\n"
          ]
        }
      ]
    },
    {
      "cell_type": "code",
      "source": [
        "! mk sampletest"
      ],
      "metadata": {
        "colab": {
          "base_uri": "https://localhost:8080/"
        },
        "id": "EDbUIqybsKUi",
        "outputId": "189e53ca-fdb5-4261-8872-580fb727e903"
      },
      "execution_count": 61,
      "outputs": [
        {
          "output_type": "stream",
          "name": "stdout",
          "text": [
            "/bin/bash: line 1: mk: command not found\n"
          ]
        }
      ]
    },
    {
      "cell_type": "code",
      "source": [
        "! mkdir firstdirectory"
      ],
      "metadata": {
        "colab": {
          "base_uri": "https://localhost:8080/"
        },
        "id": "ztNIrLb3sWXx",
        "outputId": "55df5837-534b-4413-c7b0-e2f6b46e477b"
      },
      "execution_count": 62,
      "outputs": [
        {
          "output_type": "stream",
          "name": "stdout",
          "text": [
            "mkdir: cannot create directory ‘firstdirectory’: File exists\n"
          ]
        }
      ]
    },
    {
      "cell_type": "code",
      "source": [
        "! cd firstdirectory"
      ],
      "metadata": {
        "id": "EPsnO0TksaPz"
      },
      "execution_count": 63,
      "outputs": []
    },
    {
      "cell_type": "code",
      "source": [
        "! mkdir firstinternaldirecotry"
      ],
      "metadata": {
        "colab": {
          "base_uri": "https://localhost:8080/"
        },
        "id": "kaVVUMkpscvP",
        "outputId": "7612883f-de57-4783-bc73-d17cb9164c39"
      },
      "execution_count": 64,
      "outputs": [
        {
          "output_type": "stream",
          "name": "stdout",
          "text": [
            "mkdir: cannot create directory ‘firstinternaldirecotry’: File exists\n"
          ]
        }
      ]
    },
    {
      "cell_type": "code",
      "source": [
        "! pwd"
      ],
      "metadata": {
        "colab": {
          "base_uri": "https://localhost:8080/"
        },
        "id": "6MqHB3hmsjLx",
        "outputId": "24280fab-e4b5-4e84-85e4-a8a84d7f7fd5"
      },
      "execution_count": 65,
      "outputs": [
        {
          "output_type": "stream",
          "name": "stdout",
          "text": [
            "/content\n"
          ]
        }
      ]
    },
    {
      "cell_type": "code",
      "source": [
        "! cd firstdirectory"
      ],
      "metadata": {
        "id": "M9OZ2XW7soGd"
      },
      "execution_count": 66,
      "outputs": []
    },
    {
      "cell_type": "code",
      "source": [
        "! pwd"
      ],
      "metadata": {
        "colab": {
          "base_uri": "https://localhost:8080/"
        },
        "id": "Lf8G1OZYswQ6",
        "outputId": "61147c6e-6d63-4ddd-ae15-8be45c6bb371"
      },
      "execution_count": 67,
      "outputs": [
        {
          "output_type": "stream",
          "name": "stdout",
          "text": [
            "/content\n"
          ]
        }
      ]
    },
    {
      "cell_type": "code",
      "source": [
        "! ls"
      ],
      "metadata": {
        "colab": {
          "base_uri": "https://localhost:8080/"
        },
        "id": "ihZKP8cvsxgs",
        "outputId": "425f1a32-54fc-41b2-95ef-c07fd9494c59"
      },
      "execution_count": 68,
      "outputs": [
        {
          "output_type": "stream",
          "name": "stdout",
          "text": [
            "fileinfuture.txt  firstinternaldirecotry  samplefile_2\ttest10\ttest4  test7\n",
            "firstdirectory\t  sample_data\t\t  samplefile_3\ttest2\ttest5  test8\n",
            "firstfile.txt\t  sample_file1\t\t  test1\t\ttest3\ttest6  test9\n"
          ]
        }
      ]
    },
    {
      "cell_type": "code",
      "source": [
        "! cd firstdirectory"
      ],
      "metadata": {
        "id": "P0OuIMGNtFQL"
      },
      "execution_count": 69,
      "outputs": []
    },
    {
      "cell_type": "code",
      "source": [
        "! pwd"
      ],
      "metadata": {
        "colab": {
          "base_uri": "https://localhost:8080/"
        },
        "id": "P9gcML8wtN3U",
        "outputId": "c8dd5b5b-a8ef-4b7a-dcb9-33cc962b3250"
      },
      "execution_count": 70,
      "outputs": [
        {
          "output_type": "stream",
          "name": "stdout",
          "text": [
            "/content\n"
          ]
        }
      ]
    },
    {
      "cell_type": "code",
      "source": [
        "! copy sample_data /content/firstdirectory"
      ],
      "metadata": {
        "colab": {
          "base_uri": "https://localhost:8080/"
        },
        "id": "bAttD4FntO8l",
        "outputId": "5be1dd39-35d9-4e8f-b90c-9eca52942e2a"
      },
      "execution_count": 71,
      "outputs": [
        {
          "output_type": "stream",
          "name": "stdout",
          "text": [
            "/bin/bash: line 1: copy: command not found\n"
          ]
        }
      ]
    },
    {
      "cell_type": "code",
      "source": [
        "! apt install copy"
      ],
      "metadata": {
        "colab": {
          "base_uri": "https://localhost:8080/"
        },
        "id": "11wFR6UQtaek",
        "outputId": "7ce5c9c7-614c-466e-8a54-8dff3d4ae62e"
      },
      "execution_count": 72,
      "outputs": [
        {
          "output_type": "stream",
          "name": "stdout",
          "text": [
            "Reading package lists... Done\n",
            "Building dependency tree... Done\n",
            "Reading state information... Done\n",
            "\u001b[1;31mE: \u001b[0mUnable to locate package copy\u001b[0m\n"
          ]
        }
      ]
    },
    {
      "cell_type": "code",
      "source": [
        "! copy sample_data /content/firstdirectory"
      ],
      "metadata": {
        "colab": {
          "base_uri": "https://localhost:8080/"
        },
        "id": "biIgKU9Dte2q",
        "outputId": "5eb03257-a404-4389-8f70-c9cb7c9739de"
      },
      "execution_count": 73,
      "outputs": [
        {
          "output_type": "stream",
          "name": "stdout",
          "text": [
            "/bin/bash: line 1: copy: command not found\n"
          ]
        }
      ]
    },
    {
      "cell_type": "code",
      "source": [
        "'''\n",
        "\n",
        "All Linux commands\n",
        "\n",
        "Some of the commands not able to execute in this colab environment\n",
        "\n",
        "ssh username@ipaddress\n",
        "ls\n",
        "pwd\n",
        "cd\n",
        "touch\n",
        "echo\n",
        "nano\n",
        "vim\n",
        "cat\n",
        "shred\n",
        "mkdir\n",
        "copy\n",
        "mv\n",
        "rm\n",
        "rmdir\n",
        "ln\n",
        "clear\n",
        "whoami\n",
        "useradd\n",
        "adduser\n",
        "su\n",
        "exit\n",
        "passwd\n",
        "apt\n",
        "finger\n",
        "man\n",
        "whatis\n",
        "whereis\n",
        "wget\n",
        "curl\n",
        "zip\n",
        "unzip\n",
        "less\n",
        "head\n",
        "tail\n",
        "cmp\n",
        "diff\n",
        "cat\n",
        "find\n",
        "chmod\n",
        "chown\n",
        "----------------------------------------------------------\n",
        "Network\n",
        "ipconfig\n",
        "ipaddress\n",
        "ping\n",
        "traceroute\n",
        "netsta\n",
        "ufw\n",
        "uname\n",
        "neofetch ( * Information about the system)\n",
        "cal (* calculator )\n",
        "echo\n",
        "free (* display free space)\n",
        "df\n",
        "ps\n",
        "top\n",
        "htop\n",
        "kill\n",
        "history\n",
        "reboot\n",
        "shutdown\n",
        "\n",
        "'''\n",
        "\n"
      ],
      "metadata": {
        "colab": {
          "base_uri": "https://localhost:8080/",
          "height": 87
        },
        "id": "XZ7loJjHth3w",
        "outputId": "9e515c25-8582-4853-9c10-7a77fb654e11"
      },
      "execution_count": 74,
      "outputs": [
        {
          "output_type": "execute_result",
          "data": {
            "text/plain": [
              "'\\n\\nAll Linux commands\\n\\nssh username@ipaddress\\nls \\npwd\\ncd\\ntouch\\necho\\nnano\\nvim\\ncat\\nshred\\nmkdir\\ncopy\\nmv\\nrm\\nrmdir\\nln \\nclear\\nwhoami\\nuseradd\\nadduser\\nsu\\nexit\\npasswd\\napt\\nfinger\\nman\\nwhatis\\nwhereis\\nwget\\ncurl\\nzip\\nunzip\\nless\\nhead\\ntail\\ncmp\\ndiff\\ncat\\nfind \\nchmod\\nchown\\n----------------------------------------------------------\\nNetwork\\nipconfig\\nipaddress\\nping\\ntraceroute\\nnetsta\\nufw\\nuname\\nneofetch ( * Information about the system)\\ncal (* calculator )\\necho \\nfree (* display free space)\\ndf\\nps\\ntop\\nhtop\\nkill\\nhistory\\nreboot\\nshutdown\\n\\n'"
            ],
            "application/vnd.google.colaboratory.intrinsic+json": {
              "type": "string"
            }
          },
          "metadata": {},
          "execution_count": 74
        }
      ]
    }
  ]
}