{
  "nbformat": 4,
  "nbformat_minor": 0,
  "metadata": {
    "colab": {
      "provenance": [],
      "authorship_tag": "ABX9TyNB/zTP/K9RoGKZpI+Qj1sD"
    },
    "kernelspec": {
      "name": "python3",
      "display_name": "Python 3"
    },
    "language_info": {
      "name": "python"
    }
  },
  "cells": [
    {
      "cell_type": "code",
      "execution_count": 1,
      "metadata": {
        "colab": {
          "base_uri": "https://localhost:8080/"
        },
        "id": "pJweqIrJwCQo",
        "outputId": "4310a674-73ef-420b-f807-781c38042348"
      },
      "outputs": [
        {
          "output_type": "stream",
          "name": "stdout",
          "text": [
            "Requirement already satisfied: pyspark in /usr/local/lib/python3.10/dist-packages (3.5.0)\n",
            "Requirement already satisfied: py4j==0.10.9.7 in /usr/local/lib/python3.10/dist-packages (from pyspark) (0.10.9.7)\n"
          ]
        }
      ],
      "source": [
        "! pip install pyspark"
      ]
    },
    {
      "cell_type": "code",
      "source": [
        "from pyspark.sql import SparkSession\n",
        "spark = SparkSession \\\n",
        "    .builder \\\n",
        "    .appName(\"Python Spark SQL - Database\") \\\n",
        "    .getOrCreate()"
      ],
      "metadata": {
        "id": "h5-Ol1eZwhGI"
      },
      "execution_count": 2,
      "outputs": []
    },
    {
      "cell_type": "code",
      "source": [
        "spark.sql(\"CREATE DATABASE IF NOT EXISTS customer_db\")\n",
        "spark.sql('CREATE DATABASE IF NOT EXISTS Housing_db COMMENT \"This is housing database\" LOCATION \"New\" WITH PROPERTIES (first_p = 1, second_p =2) ')\n",
        "spark.sql('CREATE DATABASE IF NOT EXISTS Sample_db COMMENT \"creating a sample database\" LOCATION \"location_sample\" WITH DBPROPERTIES (first_Sp = \"S1\", second_Sp =\"S2\")')\n",
        "# COMMENT , LOCATION , WITH PROPERTIES"
      ],
      "metadata": {
        "colab": {
          "base_uri": "https://localhost:8080/"
        },
        "id": "3RRSlWJvwXiI",
        "outputId": "d6b5df98-b78b-4215-824e-03867618200f"
      },
      "execution_count": 3,
      "outputs": [
        {
          "output_type": "execute_result",
          "data": {
            "text/plain": [
              "DataFrame[]"
            ]
          },
          "metadata": {},
          "execution_count": 3
        }
      ]
    },
    {
      "cell_type": "code",
      "source": [
        "customerdb_dataframe = spark.sql(\"DESCRIBE DATABASE customer_db\")\n",
        "housingdb_dataframe = spark.sql(\"DESCRIBE DATABASE EXTENDED Housing_db\")\n",
        "sampledb_dataframe = spark.sql(\"DESCRIBE DATABASE EXTENDED sample_db\")"
      ],
      "metadata": {
        "id": "zetSLmtS2ie7"
      },
      "execution_count": 4,
      "outputs": []
    },
    {
      "cell_type": "code",
      "source": [
        "housingdb_dataframe.head(10)"
      ],
      "metadata": {
        "colab": {
          "base_uri": "https://localhost:8080/"
        },
        "id": "akbjl6609v-H",
        "outputId": "4b9d252e-85b7-498c-f7e0-06cdd174a7bb"
      },
      "execution_count": 5,
      "outputs": [
        {
          "output_type": "execute_result",
          "data": {
            "text/plain": [
              "[Row(info_name='Catalog Name', info_value='spark_catalog'),\n",
              " Row(info_name='Namespace Name', info_value='Housing_db'),\n",
              " Row(info_name='Comment', info_value='This is housing database'),\n",
              " Row(info_name='Location', info_value='file:/content/spark-warehouse/New'),\n",
              " Row(info_name='Owner', info_value='root'),\n",
              " Row(info_name='Properties', info_value='((first_p,1), (second_p,2))')]"
            ]
          },
          "metadata": {},
          "execution_count": 5
        }
      ]
    },
    {
      "cell_type": "code",
      "source": [
        "customerdb_dataframe.head(10)"
      ],
      "metadata": {
        "colab": {
          "base_uri": "https://localhost:8080/"
        },
        "id": "QTVfxbUw-YPI",
        "outputId": "e463398a-64ab-46be-ece8-cf08a35682cc"
      },
      "execution_count": 6,
      "outputs": [
        {
          "output_type": "execute_result",
          "data": {
            "text/plain": [
              "[Row(info_name='Catalog Name', info_value='spark_catalog'),\n",
              " Row(info_name='Namespace Name', info_value='customer_db'),\n",
              " Row(info_name='Comment', info_value=''),\n",
              " Row(info_name='Location', info_value='file:/content/spark-warehouse/customer_db.db'),\n",
              " Row(info_name='Owner', info_value='root')]"
            ]
          },
          "metadata": {},
          "execution_count": 6
        }
      ]
    },
    {
      "cell_type": "code",
      "source": [
        "sampledb_dataframe.head(100)"
      ],
      "metadata": {
        "colab": {
          "base_uri": "https://localhost:8080/"
        },
        "id": "k7UeVy7mDfUD",
        "outputId": "f889222c-95c6-4928-8534-16cee8e4f202"
      },
      "execution_count": 7,
      "outputs": [
        {
          "output_type": "execute_result",
          "data": {
            "text/plain": [
              "[Row(info_name='Catalog Name', info_value='spark_catalog'),\n",
              " Row(info_name='Namespace Name', info_value='sample_db'),\n",
              " Row(info_name='Comment', info_value='creating a sample database'),\n",
              " Row(info_name='Location', info_value='file:/content/spark-warehouse/location_sample'),\n",
              " Row(info_name='Owner', info_value='root'),\n",
              " Row(info_name='Properties', info_value='((first_Sp,S1), (second_Sp,S2))')]"
            ]
          },
          "metadata": {},
          "execution_count": 7
        }
      ]
    },
    {
      "cell_type": "code",
      "source": [
        "spark.sql('ALTER DATABASE sample_db SET LOCATION \"NEWLOC\" ')\n",
        "spark.sql('ALTER DATABASE sample_db SET DBPROPERTIES (T1=1,T2=2)')\n",
        "sampledb_dataframe = spark.sql(\"DESCRIBE DATABASE EXTENDED sample_db\")\n",
        "sampledb_dataframe.head(100)"
      ],
      "metadata": {
        "colab": {
          "base_uri": "https://localhost:8080/"
        },
        "id": "XCGQHD8ZEPXV",
        "outputId": "e56e6374-61ff-4afc-ddfc-618f2f7799b6"
      },
      "execution_count": 8,
      "outputs": [
        {
          "output_type": "execute_result",
          "data": {
            "text/plain": [
              "[Row(info_name='Catalog Name', info_value='spark_catalog'),\n",
              " Row(info_name='Namespace Name', info_value='sample_db'),\n",
              " Row(info_name='Comment', info_value='creating a sample database'),\n",
              " Row(info_name='Location', info_value='file:/content/spark-warehouse/NEWLOC'),\n",
              " Row(info_name='Owner', info_value='root'),\n",
              " Row(info_name='Properties', info_value='((T1,1), (T2,2), (first_Sp,S1), (second_Sp,S2))')]"
            ]
          },
          "metadata": {},
          "execution_count": 8
        }
      ]
    },
    {
      "cell_type": "code",
      "source": [
        "spark.sql('DROP DATABASE IF EXISTS sample_db CASCADE')"
      ],
      "metadata": {
        "colab": {
          "base_uri": "https://localhost:8080/"
        },
        "id": "NxMvyHHzGeSV",
        "outputId": "d591d1cb-d006-48bf-a617-6eec07a2904d"
      },
      "execution_count": 9,
      "outputs": [
        {
          "output_type": "execute_result",
          "data": {
            "text/plain": [
              "DataFrame[]"
            ]
          },
          "metadata": {},
          "execution_count": 9
        }
      ]
    },
    {
      "cell_type": "code",
      "source": [
        "showdataframe = spark.sql('SHOW DATABASES')\n",
        "showdataframe.head(10)"
      ],
      "metadata": {
        "colab": {
          "base_uri": "https://localhost:8080/"
        },
        "id": "V87Ev-6_GrcF",
        "outputId": "986c968d-9aea-4558-fb87-93cae79cec7a"
      },
      "execution_count": 10,
      "outputs": [
        {
          "output_type": "execute_result",
          "data": {
            "text/plain": [
              "[Row(namespace='customer_db'),\n",
              " Row(namespace='default'),\n",
              " Row(namespace='housing_db')]"
            ]
          },
          "metadata": {},
          "execution_count": 10
        }
      ]
    },
    {
      "cell_type": "code",
      "source": [
        "showdataframe = spark.sql(\"SHOW DATABASES LIKE 'c*'\")\n",
        "showdataframe.head(10)"
      ],
      "metadata": {
        "colab": {
          "base_uri": "https://localhost:8080/"
        },
        "id": "Siza9UNnG4K9",
        "outputId": "91cb1f82-17da-4421-fba7-e2e4a2b2c6ea"
      },
      "execution_count": 11,
      "outputs": [
        {
          "output_type": "execute_result",
          "data": {
            "text/plain": [
              "[Row(namespace='customer_db')]"
            ]
          },
          "metadata": {},
          "execution_count": 11
        }
      ]
    }
  ]
}