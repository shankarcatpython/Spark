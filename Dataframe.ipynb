{
  "nbformat": 4,
  "nbformat_minor": 0,
  "metadata": {
    "colab": {
      "private_outputs": true,
      "provenance": [],
      "authorship_tag": "ABX9TyOFmUrVUPxq/dAWpy1f887/"
    },
    "kernelspec": {
      "name": "python3",
      "display_name": "Python 3"
    },
    "language_info": {
      "name": "python"
    }
  },
  "cells": [
    {
      "cell_type": "code",
      "execution_count": null,
      "metadata": {
        "id": "ItPeWJMRWkGi"
      },
      "outputs": [],
      "source": [
        "# Create a spark session\n",
        "\n",
        "!pip install pyspark\n",
        "\n",
        "\n",
        "from pyspark.sql import SparkSession\n",
        "spark = SparkSession.builder.appName(\"Dataframe\").getOrCreate()\n"
      ]
    },
    {
      "cell_type": "code",
      "source": [
        "# prompt: Read califorina housing test\n",
        "\n",
        "df = spark.read.format(\"csv\").option(\"header\", \"true\").option(\"inferSchema\", \"true\").load(r\"/content/sample_data/california_housing_test.csv\")\n"
      ],
      "metadata": {
        "id": "R28-qe_8XVll"
      },
      "execution_count": null,
      "outputs": []
    },
    {
      "cell_type": "code",
      "source": [
        "# prompt: DataFrame.agg\n",
        "\n",
        "# Get the average of 'housing_median_age'\n",
        "average_housing_median_age = df.agg({\"housing_median_age\": \"avg\"}).collect()[0][0]\n",
        "\n",
        "# Get the maximum of 'housing_median_age'\n",
        "max_housing_median_age = df.agg({\"housing_median_age\": \"max\"}).collect()[0][0]\n",
        "\n",
        "# Get the minimum of 'housing_median_age'\n",
        "min_housing_median_age = df.agg({\"housing_median_age\": \"min\"}).collect()[0][0]\n",
        "\n",
        "# Get the sum of 'housing_median_age'\n",
        "sum_housing_median_age = df.agg({\"housing_median_age\": \"sum\"}).collect()[0][0]\n",
        "\n",
        "# Print the results\n",
        "print(\"Average housing median age:\", average_housing_median_age)\n",
        "print(\"Maximum housing median age:\", max_housing_median_age)\n",
        "print(\"Minimum housing median age:\", min_housing_median_age)\n",
        "print(\"Sum of housing median age:\", sum_housing_median_age)\n"
      ],
      "metadata": {
        "id": "zmBLwOveYpi-"
      },
      "execution_count": null,
      "outputs": []
    },
    {
      "cell_type": "code",
      "source": [
        "# prompt: DataFrame.approxQuantile\n",
        "\n",
        "# Get the approximate quantiles of 'housing_median_age'\n",
        "quantiles = df.approxQuantile(\"housing_median_age\", [0.25, 0.5, 0.75], 0.1)\n",
        "\n",
        "# Print the results\n",
        "print(\"25th percentile:\", quantiles[0])\n",
        "print(\"50th percentile:\", quantiles[1])\n",
        "print(\"75th percentile:\", quantiles[2])\n"
      ],
      "metadata": {
        "id": "q77tNLASZVrh"
      },
      "execution_count": null,
      "outputs": []
    },
    {
      "cell_type": "code",
      "source": [
        "# prompt: DataFrame.cache\n",
        "\n",
        "df.cache()\n"
      ],
      "metadata": {
        "id": "ljOVxzrvafRY"
      },
      "execution_count": null,
      "outputs": []
    },
    {
      "cell_type": "code",
      "source": [
        "# prompt: repartition\n",
        "\n",
        "df = df.repartition(10)\n"
      ],
      "metadata": {
        "id": "8XbWjgb2a6bl"
      },
      "execution_count": null,
      "outputs": []
    },
    {
      "cell_type": "code",
      "source": [
        "# prompt: DataFrame.coalesce\n",
        "\n",
        "# Coalesce the DataFrame to 5 partitions\n",
        "df_coalesced = df.coalesce(5)\n",
        "\n",
        "# Print the number of partitions\n",
        "print(\"Number of partitions after coalesce:\", df_coalesced.rdd.getNumPartitions())\n"
      ],
      "metadata": {
        "id": "n3PG691nasxp"
      },
      "execution_count": null,
      "outputs": []
    },
    {
      "cell_type": "code",
      "source": [
        "# prompt: DataFrame.collect\n",
        "\n",
        "# Collect the DataFrame\n",
        "collected_df = df.collect()\n",
        "\n",
        "# Print the collected data\n",
        "for row in collected_df:\n",
        "  #print(row)\n",
        "  pass\n"
      ],
      "metadata": {
        "id": "HGZ8wR5rbDiN"
      },
      "execution_count": null,
      "outputs": []
    },
    {
      "cell_type": "code",
      "source": [
        "# prompt: DataFrame.columns\n",
        "\n",
        "df.columns\n"
      ],
      "metadata": {
        "id": "X--QSrsJbglA"
      },
      "execution_count": null,
      "outputs": []
    },
    {
      "cell_type": "code",
      "source": [
        "# prompt: DataFrame.corr\n",
        "\n",
        "# Get the correlation val of the DataFrame\n",
        "correlation_val= df.corr('total_rooms','median_income')\n",
        "\n",
        "# Print the correlation val\n",
        "print(correlation_val)\n"
      ],
      "metadata": {
        "id": "zyKojEeubhp4"
      },
      "execution_count": null,
      "outputs": []
    },
    {
      "cell_type": "code",
      "source": [
        "# prompt: DataFrame.count\n",
        "\n",
        "# Get the number of rows in the DataFrame\n",
        "number_of_rows = df.count()\n",
        "\n",
        "# Print the number of rows\n",
        "print(\"Number of rows:\", number_of_rows)\n"
      ],
      "metadata": {
        "id": "dbHyvz9egfJa"
      },
      "execution_count": null,
      "outputs": []
    },
    {
      "cell_type": "code",
      "source": [
        "# prompt: DataFrame.cov\n",
        "\n",
        "# Calculate the covariance of 'total_rooms' and 'median_income'\n",
        "covariance_total_rooms_median_income = df.cov('total_rooms', 'median_income')\n",
        "\n",
        "# Print the covariance\n",
        "print(\"Covariance of total_rooms and median_income:\", covariance_total_rooms_median_income)\n"
      ],
      "metadata": {
        "id": "_nuZeKSvgmmY"
      },
      "execution_count": null,
      "outputs": []
    },
    {
      "cell_type": "code",
      "source": [
        "# prompt: createOrReplaceGlobalTempView\n",
        "\n",
        "df.createOrReplaceGlobalTempView(\"global_temp_view\")\n"
      ],
      "metadata": {
        "id": "0eKvw-VBgyMG"
      },
      "execution_count": null,
      "outputs": []
    },
    {
      "cell_type": "code",
      "source": [
        "df.describe()\n"
      ],
      "metadata": {
        "id": "Lw1M59vKhNRJ"
      },
      "execution_count": null,
      "outputs": []
    },
    {
      "cell_type": "code",
      "source": [
        "# prompt: DataFrame.cube\n",
        "\n",
        "# Create a cube of the DataFrame\n",
        "df_cube = df.cube(\"housing_median_age\", \"total_rooms\")\n",
        "\n",
        "df_cube\n"
      ],
      "metadata": {
        "id": "DP0fWptghuYY"
      },
      "execution_count": null,
      "outputs": []
    },
    {
      "cell_type": "code",
      "source": [
        "# prompt: DataFrame.dropna\n",
        "\n",
        "# Drop rows with null values in any column\n",
        "df_without_nulls = df.dropna()\n",
        "\n",
        "# Drop rows with null values only in specific columns\n",
        "df_without_nulls_specific_cols = df.dropna(subset=[\"housing_median_age\", \"total_rooms\"])\n",
        "\n",
        "# Drop rows with null values in any column and fill null values with a specific value\n",
        "df_with_filled_nulls = df.fillna(0)\n",
        "\n",
        "# Drop rows with null values only in specific columns and fill null values with a specific value\n",
        "df_with_filled_nulls_specific_cols = df.fillna(0, subset=[\"housing_median_age\", \"total_rooms\"])\n",
        "\n"
      ],
      "metadata": {
        "id": "osNmrqY_h_2n"
      },
      "execution_count": null,
      "outputs": []
    }
  ]
}