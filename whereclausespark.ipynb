{
  "nbformat": 4,
  "nbformat_minor": 0,
  "metadata": {
    "colab": {
      "private_outputs": true,
      "provenance": [],
      "authorship_tag": "ABX9TyPVkTMZa7pmHXP7qe7tzf6Z"
    },
    "kernelspec": {
      "name": "python3",
      "display_name": "Python 3"
    },
    "language_info": {
      "name": "python"
    }
  },
  "cells": [
    {
      "cell_type": "code",
      "execution_count": null,
      "metadata": {
        "id": "aq-M7GYbrZmv"
      },
      "outputs": [],
      "source": [
        "! pip install pyspark"
      ]
    },
    {
      "cell_type": "code",
      "source": [
        "import pandas as pd\n",
        "car_dataframe = pd.read_csv(r'/content/car_prices.csv')\n",
        "\n",
        "from pyspark.sql import SparkSession\n",
        "from pyspark.sql.types import StructType, StructField, StringType, IntegerType\n",
        "\n",
        "spark = SparkSession.builder.appName(\"car_app\").getOrCreate()\n",
        "\n",
        "schema_car = StructType([StructField(\"year\", StringType(), True)\n",
        " ,StructField(\"make\", StringType(), True)\n",
        " ,StructField(\"model\", StringType(), True)\n",
        " ,StructField(\"trim\", StringType(), True)\n",
        " ,StructField(\"body\", StringType(), True)\n",
        " ,StructField(\"transmission\", StringType(), True)\n",
        " ,StructField(\"vin\", StringType(), True)\n",
        " ,StructField(\"state\", StringType(), True)\n",
        " ,StructField(\"condition\", IntegerType(), True)\n",
        " ,StructField(\"odometer\", IntegerType(), True)\n",
        " ,StructField(\"color\", StringType(), True)\n",
        " ,StructField(\"interior\", StringType(), True)\n",
        " ,StructField(\"seller\", StringType(), True)\n",
        " ,StructField(\"mmr\", IntegerType(), True)\n",
        " ,StructField(\"sellingprice\", IntegerType(), True)\n",
        " ,StructField(\"saledate\", StringType(), True)\n",
        "])\n",
        "spark_cardataframe = spark.read.option(\"header\", True).csv(r'/content/car_prices.csv',schema=schema_car)\n",
        "spark_cardataframe.createOrReplaceTempView('car_sales_test')"
      ],
      "metadata": {
        "id": "n81jScMnr6aX"
      },
      "execution_count": null,
      "outputs": []
    },
    {
      "cell_type": "code",
      "source": [
        "spark_cardataframe.printSchema()"
      ],
      "metadata": {
        "id": "CirispzasED3"
      },
      "execution_count": null,
      "outputs": []
    },
    {
      "cell_type": "code",
      "source": [
        "def execquery(query,limit):\n",
        "  spark.sql(query).show(limit)"
      ],
      "metadata": {
        "id": "x1NVeG-dsHQY"
      },
      "execution_count": null,
      "outputs": []
    },
    {
      "cell_type": "code",
      "source": [
        "query_string = '''\n",
        "select * from car_sales_test\n",
        "where odometer > 1000\n",
        "order by odometer\n",
        ";\n",
        "'''\n",
        "execquery(query_string,10)\n"
      ],
      "metadata": {
        "id": "L-f9tNSxsX3Q"
      },
      "execution_count": null,
      "outputs": []
    },
    {
      "cell_type": "code",
      "source": [
        "query_string = '''\n",
        "select * from car_sales_test\n",
        "where transmission is not null\n",
        "order by odometer\n",
        ";\n",
        "'''\n",
        "execquery(query_string,5)\n"
      ],
      "metadata": {
        "id": "f805F7T1s5d-"
      },
      "execution_count": null,
      "outputs": []
    },
    {
      "cell_type": "code",
      "source": [
        "query_string = '''\n",
        "select * from car_sales_test\n",
        "where  odometer > 1000 or make='Nissan'\n",
        "and transmission is not null\n",
        "order by odometer\n",
        ";\n",
        "'''\n",
        "execquery(query_string,5)"
      ],
      "metadata": {
        "id": "DUB0FjZssmmi"
      },
      "execution_count": null,
      "outputs": []
    },
    {
      "cell_type": "code",
      "source": [
        "query_string = '''\n",
        "select * from car_sales_test\n",
        "where  len(body) >5\n",
        "order by odometer\n",
        ";\n",
        "'''\n",
        "execquery(query_string,5)"
      ],
      "metadata": {
        "id": "WyhTSL-7twMF"
      },
      "execution_count": null,
      "outputs": []
    },
    {
      "cell_type": "code",
      "source": [
        "query_string = '''\n",
        "select * from car_sales_test\n",
        "where  odometer between 100 and 200\n",
        "order by odometer\n",
        ";\n",
        "'''\n",
        "execquery(query_string,5)"
      ],
      "metadata": {
        "id": "Cr_FT6gpt-cF"
      },
      "execution_count": null,
      "outputs": []
    },
    {
      "cell_type": "code",
      "source": [
        "query_string = '''\n",
        "select * from car_sales_test\n",
        "where  odometer > (select avg(odometer) from car_sales_test)\n",
        "order by odometer\n",
        ";\n",
        "'''\n",
        "execquery(query_string,5)"
      ],
      "metadata": {
        "id": "SANUZF6tumDs"
      },
      "execution_count": null,
      "outputs": []
    },
    {
      "cell_type": "code",
      "source": [
        "query_string = '''\n",
        "select year,make,model,first(transmission ignore nulls) from car_sales_test\n",
        "where  odometer > (select avg(odometer) from car_sales_test)\n",
        "and make is not null\n",
        "group by year,make,model\n",
        ";\n",
        "'''\n",
        "execquery(query_string,5)"
      ],
      "metadata": {
        "id": "F1rdQCv5uuVm"
      },
      "execution_count": null,
      "outputs": []
    },
    {
      "cell_type": "code",
      "source": [
        "query_string = '''\n",
        "select * from car_sales_test\n",
        "tablesample (2 rows)\n",
        ";\n",
        "'''\n",
        "execquery(query_string,5)"
      ],
      "metadata": {
        "id": "VfNRXuAHvgri"
      },
      "execution_count": null,
      "outputs": []
    },
    {
      "cell_type": "code",
      "source": [
        "query_string = '''\n",
        "select year,make,model,odometer from car_sales_test\n",
        "tablesample (10 percent)\n",
        "where year = '2001'\n",
        "and odometer > (select avg(odometer) from car_sales_test)\n",
        "and make is not null\n",
        ";\n",
        "'''\n",
        "execquery(query_string,5)"
      ],
      "metadata": {
        "id": "V10765p4xOAA"
      },
      "execution_count": null,
      "outputs": []
    },
    {
      "cell_type": "code",
      "source": [
        "query_string = '''\n",
        "select count(*) from\n",
        "(\n",
        "select year,make,model,odometer from car_sales_test\n",
        "tablesample (bucket 2 out of 10)\n",
        ")\n",
        ";\n",
        "'''\n",
        "execquery(query_string,100)"
      ],
      "metadata": {
        "id": "u9JKbvxkw4tM"
      },
      "execution_count": null,
      "outputs": []
    },
    {
      "cell_type": "code",
      "source": [
        "query_string = '''\n",
        "select count(*) from car_sales_test\n",
        ";\n",
        "'''\n",
        "execquery(query_string,100)"
      ],
      "metadata": {
        "id": "ZLV1xeJYzWJ0"
      },
      "execution_count": null,
      "outputs": []
    },
    {
      "cell_type": "code",
      "source": [
        "2/10"
      ],
      "metadata": {
        "id": "iXVS52idz0VH"
      },
      "execution_count": null,
      "outputs": []
    },
    {
      "cell_type": "code",
      "source": [
        "111125/558837"
      ],
      "metadata": {
        "id": "HVXhnYUYz483"
      },
      "execution_count": null,
      "outputs": []
    },
    {
      "cell_type": "code",
      "source": [
        "query_string = '''\n",
        "explain extended select count(*) from car_sales_test\n",
        ";\n",
        "'''\n",
        "spark.sql(query_string).show(truncate=False)"
      ],
      "metadata": {
        "id": "PWZfDTuOz7om"
      },
      "execution_count": null,
      "outputs": []
    },
    {
      "cell_type": "code",
      "source": [
        "query_string = '''\n",
        "select * from values ('f1','f2',3)\n",
        ";\n",
        "'''\n",
        "execquery(query_string,100)"
      ],
      "metadata": {
        "id": "bARhlhNT1M5V"
      },
      "execution_count": null,
      "outputs": []
    },
    {
      "cell_type": "code",
      "source": [
        "query_string = '''\n",
        "select * from values ('f1','f2',3) as data(year,make,model)\n",
        ";\n",
        "'''\n",
        "execquery(query_string,100)"
      ],
      "metadata": {
        "id": "skVH6oZV2Axs"
      },
      "execution_count": null,
      "outputs": []
    },
    {
      "cell_type": "code",
      "source": [
        "query_string = '''\n",
        "select * from values ('f1','f2',3),('f2','f3',4) as data(year,make,model)\n",
        ";\n",
        "'''\n",
        "execquery(query_string,100)"
      ],
      "metadata": {
        "id": "7_P9zGnZ2Tru"
      },
      "execution_count": null,
      "outputs": []
    },
    {
      "cell_type": "code",
      "source": [
        "query_string = '''\n",
        "select * from values ('f1','f2',3,array(1,5)),('f2','f3',4,array(2,8))\n",
        "as data(year,make,model,array)\n",
        ";\n",
        "'''\n",
        "execquery(query_string,100)"
      ],
      "metadata": {
        "id": "DONsLRoR2aCV"
      },
      "execution_count": null,
      "outputs": []
    },
    {
      "cell_type": "code",
      "source": [
        "query_string = '''\n",
        "SELECT * FROM range(5, 10)\n",
        ";\n",
        "'''\n",
        "execquery(query_string,100)"
      ],
      "metadata": {
        "id": "52efuNpG2l_F"
      },
      "execution_count": null,
      "outputs": []
    },
    {
      "cell_type": "code",
      "source": [
        "query_string = '''\n",
        "SELECT * FROM range(6 + exp(2))\n",
        ";\n",
        "'''\n",
        "execquery(query_string,100)"
      ],
      "metadata": {
        "id": "HREnH1zl3EY-"
      },
      "execution_count": null,
      "outputs": []
    },
    {
      "cell_type": "code",
      "source": [
        "query_string = '''\n",
        "SELECT * FROM range(5,8) as test\n",
        ";\n",
        "'''\n",
        "execquery(query_string,100)"
      ],
      "metadata": {
        "id": "hNtCasxf3KQ-"
      },
      "execution_count": null,
      "outputs": []
    },
    {
      "cell_type": "code",
      "source": [
        "query_string = '''\n",
        "SELECT * FROM range(0, 12, 2)\n",
        ";\n",
        "'''\n",
        "execquery(query_string,100)"
      ],
      "metadata": {
        "id": "xYL3mCJy3oJT"
      },
      "execution_count": null,
      "outputs": []
    },
    {
      "cell_type": "code",
      "source": [
        "query_string = '''\n",
        "SELECT array(10, 20) as array_values\n",
        ";\n",
        "'''\n",
        "execquery(query_string,100)"
      ],
      "metadata": {
        "id": "T9IF_Fkg3xQ0"
      },
      "execution_count": null,
      "outputs": []
    },
    {
      "cell_type": "code",
      "source": [
        "query_string = '''\n",
        "SELECT explode ( array(10, 20)) as array_values\n",
        ";\n",
        "'''\n",
        "execquery(query_string,100)"
      ],
      "metadata": {
        "id": "N5E6qlQO4FXH"
      },
      "execution_count": null,
      "outputs": []
    },
    {
      "cell_type": "code",
      "source": [
        "query_string = '''\n",
        "SELECT posexplode ( array(10, 20)) as (position,value)\n",
        ";\n",
        "'''\n",
        "execquery(query_string,100)"
      ],
      "metadata": {
        "id": "m-EGcf8Q4TmH"
      },
      "execution_count": null,
      "outputs": []
    },
    {
      "cell_type": "code",
      "source": [
        "query_string = '''\n",
        "select inline(array(struct(1, 'a'), struct(2, 'b'))) as (position,value)\n",
        ";\n",
        "'''\n",
        "execquery(query_string,100)"
      ],
      "metadata": {
        "id": "zhVGZs_p4fE7"
      },
      "execution_count": null,
      "outputs": []
    },
    {
      "cell_type": "code",
      "source": [
        "query_string = '''\n",
        "SELECT stack(2,1,2,3,5,6)\n",
        ";\n",
        "'''\n",
        "execquery(query_string,100)"
      ],
      "metadata": {
        "id": "be41swbh4wTm"
      },
      "execution_count": null,
      "outputs": []
    },
    {
      "cell_type": "code",
      "source": [
        "query_string = '''\n",
        "SELECT json_tuple('{\"a\":1, \"b\":2}', 'a', 'b');\n",
        ";\n",
        "'''\n",
        "execquery(query_string,100)"
      ],
      "metadata": {
        "id": "3GgIVrBc4_HL"
      },
      "execution_count": null,
      "outputs": []
    }
  ]
}