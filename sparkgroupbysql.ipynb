{
  "nbformat": 4,
  "nbformat_minor": 0,
  "metadata": {
    "colab": {
      "private_outputs": true,
      "provenance": [],
      "authorship_tag": "ABX9TyPz3a11fbWItoKJ752jOYHS"
    },
    "kernelspec": {
      "name": "python3",
      "display_name": "Python 3"
    },
    "language_info": {
      "name": "python"
    }
  },
  "cells": [
    {
      "cell_type": "code",
      "execution_count": null,
      "metadata": {
        "id": "BtSMmd79OnYP"
      },
      "outputs": [],
      "source": [
        "! pip install pyspark"
      ]
    },
    {
      "cell_type": "code",
      "source": [
        "from pyspark.sql import SparkSession\n",
        "from pyspark.sql.types import StructType, StructField, StringType, IntegerType\n",
        "spark = SparkSession.builder.appName(\"my_app\").getOrCreate()\n",
        "schema_car = StructType([StructField(\"year\", StringType(), True)\n",
        " ,StructField(\"make\", StringType(), True)\n",
        " ,StructField(\"model\", StringType(), True)\n",
        " ,StructField(\"trim\", StringType(), True)\n",
        " ,StructField(\"body\", StringType(), True)\n",
        " ,StructField(\"transmission\", StringType(), True)\n",
        " ,StructField(\"vin\", StringType(), True)\n",
        " ,StructField(\"state\", StringType(), True)\n",
        " ,StructField(\"condition\", IntegerType(), True)\n",
        " ,StructField(\"odometer\", IntegerType(), True)\n",
        " ,StructField(\"color\", StringType(), True)\n",
        " ,StructField(\"interior\", StringType(), True)\n",
        " ,StructField(\"seller\", StringType(), True)\n",
        " ,StructField(\"mmr\", IntegerType(), True)\n",
        " ,StructField(\"sellingprice\", IntegerType(), True)\n",
        " ,StructField(\"saledate\", StringType(), True)\n",
        "])"
      ],
      "metadata": {
        "id": "QPZChnQWQa_R"
      },
      "execution_count": null,
      "outputs": []
    },
    {
      "cell_type": "code",
      "source": [
        "spark_cardataframe = spark.read.option(\"header\", True).csv(r'/content/car_prices.csv',schema=schema_car)"
      ],
      "metadata": {
        "id": "uH112tGOQdJz"
      },
      "execution_count": null,
      "outputs": []
    },
    {
      "cell_type": "code",
      "source": [
        "spark_cardataframe.printSchema()"
      ],
      "metadata": {
        "id": "dEXBLYleQhvl"
      },
      "execution_count": null,
      "outputs": []
    },
    {
      "cell_type": "code",
      "source": [
        "spark_cardataframe.show(n=2,vertical=True,truncate=150)"
      ],
      "metadata": {
        "id": "0v02f0LEQl5V"
      },
      "execution_count": null,
      "outputs": []
    },
    {
      "cell_type": "code",
      "source": [
        "spark_cardataframe.createOrReplaceTempView(\"car_sales_test\")"
      ],
      "metadata": {
        "id": "RTMOtmK_QnI7"
      },
      "execution_count": null,
      "outputs": []
    },
    {
      "cell_type": "code",
      "source": [
        "def execsql(query):\n",
        "    return(spark.sql(query))\n",
        "\n",
        "select_count = 'select count(*) from car_sales_test;'"
      ],
      "metadata": {
        "id": "3ADivu4JQvb5"
      },
      "execution_count": null,
      "outputs": []
    },
    {
      "cell_type": "code",
      "source": [
        "from os import execlpe\n",
        "execsql(select_count).show()"
      ],
      "metadata": {
        "id": "yJIG2hp1Q671"
      },
      "execution_count": null,
      "outputs": []
    },
    {
      "cell_type": "code",
      "source": [
        "groupby_col = 'select year, count(*) as vehicle_count from car_sales_test group by year order by count(*) desc;'\n",
        "execsql(groupby_col).show(10)\n",
        "\n",
        "# Inference Year 2012 has most sales"
      ],
      "metadata": {
        "id": "Jj1DcvH3S55s"
      },
      "execution_count": null,
      "outputs": []
    },
    {
      "cell_type": "code",
      "source": [
        "groupby_col = 'select make, count(*) as vehicle_count from car_sales_test group by make order by count(*) desc;'\n",
        "execsql(groupby_col).show(10)\n",
        "\n",
        "# Highest Sales company wise"
      ],
      "metadata": {
        "id": "9A7pn-oOVIVR"
      },
      "execution_count": null,
      "outputs": []
    },
    {
      "cell_type": "code",
      "source": [
        "groupby_col = 'select make,model,count(*) as vehicle_count from car_sales_test group by make,model order by count(*) desc;'\n",
        "execsql(groupby_col).show(10)\n",
        "\n",
        "# Highest Sales on make / Model"
      ],
      "metadata": {
        "id": "U7xX5yCMVdTy"
      },
      "execution_count": null,
      "outputs": []
    },
    {
      "cell_type": "code",
      "source": [
        "groupby_col = 'select make,model,count(*),year as vehicle_count from car_sales_test group by make,model,year order by count(*) desc;'\n",
        "execsql(groupby_col).show(10)\n",
        "\n",
        "# Highest Sales on make / Model / Year"
      ],
      "metadata": {
        "id": "7nmzsmjgWoVJ"
      },
      "execution_count": null,
      "outputs": []
    },
    {
      "cell_type": "code",
      "source": [
        "groupby_col = 'select model,year,count(*) as vehicle_count from car_sales_test group by model,year order by count(*) desc;'\n",
        "execsql(groupby_col).show(10)"
      ],
      "metadata": {
        "id": "SSUa3bx6Wy-H"
      },
      "execution_count": null,
      "outputs": []
    },
    {
      "cell_type": "code",
      "source": [
        "groupby_col = 'select make,year,count(*) as vehicle_count from car_sales_test group by make,year order by count(*) desc;'\n",
        "execsql(groupby_col).show(10)"
      ],
      "metadata": {
        "id": "gJ5fnvS2W8o6"
      },
      "execution_count": null,
      "outputs": []
    },
    {
      "cell_type": "code",
      "source": [
        "query = 'select make,model,count(*) from car_sales_test group by 2,1 order by 3 desc'\n",
        "execsql(query).show(5)"
      ],
      "metadata": {
        "id": "IPVHmyAaXZmA"
      },
      "execution_count": null,
      "outputs": []
    },
    {
      "cell_type": "code",
      "source": [
        "query = '''select make , model , count(*) as vcount, min(odometer) , max(odometer) as maxo , round(avg(odometer),1) as avgmiles\n",
        "from car_sales_test\n",
        "where odometer <> 999999\n",
        "and odometer <> 1\n",
        "and make <> 'NULL'\n",
        "group by make, model order by 3 desc\n",
        "'''\n",
        "execsql(query).show()"
      ],
      "metadata": {
        "id": "K0eundMaYkt0"
      },
      "execution_count": null,
      "outputs": []
    },
    {
      "cell_type": "code",
      "source": [
        "query = ''' select model,state,count(distinct seller) as dealer_count\n",
        " from car_sales_test\n",
        " where odometer <> 999999\n",
        "and odometer <> 1\n",
        "and make <> 'NULL'\n",
        " group by model,state\n",
        " order by dealer_count desc\n",
        "'''\n",
        "execsql(query).show()"
      ],
      "metadata": {
        "id": "9dfOStB6ZhMo"
      },
      "execution_count": null,
      "outputs": []
    },
    {
      "cell_type": "code",
      "source": [
        "query = ''' select state,count(distinct seller) as dealer_count\n",
        " from car_sales_test\n",
        " where odometer <> 999999\n",
        "and odometer <> 1\n",
        "and make <> 'NULL'\n",
        " group by state\n",
        " order by dealer_count desc\n",
        "'''\n",
        "execsql(query).show()"
      ],
      "metadata": {
        "id": "5HMA16fdc7pN"
      },
      "execution_count": null,
      "outputs": []
    },
    {
      "cell_type": "code",
      "source": [
        "query = ''' select state, count(distinct seller) filter (where make in ('Nissan')) as dealer_count\n",
        " from car_sales_test\n",
        " group by state\n",
        "'''\n",
        "execsql(query).show()"
      ],
      "metadata": {
        "id": "UmcqVohwdygN"
      },
      "execution_count": null,
      "outputs": []
    },
    {
      "cell_type": "code",
      "source": [
        "query = ''' select state,make,model,year, count(*)\n",
        "filter ( where make in ('Nissan','Ford','GM')) as vechicle_count\n",
        "from car_sales_test\n",
        " group by grouping sets((state),(state,make),(state,make,model),(state,make,model,year))\n",
        " having vechicle_count <> 0\n",
        " order by   vechicle_count  desc\n",
        "'''\n",
        "execsql(query).show(50)"
      ],
      "metadata": {
        "id": "dW4hTJQnepqC"
      },
      "execution_count": null,
      "outputs": []
    },
    {
      "cell_type": "code",
      "source": [
        "query = ''' select state,make, count(*)\n",
        "filter ( where make in ('Nissan','Ford','GM') and state in ('fl','tx') ) as vechicle_count\n",
        "from car_sales_test\n",
        " group by grouping sets((state),(state,make))\n",
        " having vechicle_count <> 0\n",
        " order by   vechicle_count  desc\n",
        "'''\n",
        "execsql(query).show(50)"
      ],
      "metadata": {
        "id": "a0YbZAMmhmZt"
      },
      "execution_count": null,
      "outputs": []
    },
    {
      "cell_type": "code",
      "source": [
        "query = ''' select state,make, count(*)\n",
        "filter ( where make in ('Nissan','Ford','GM') and state in ('fl','tx') ) as vechicle_count\n",
        "from car_sales_test\n",
        " group by state,make\n",
        " with rollup\n",
        " having vechicle_count <> 0\n",
        " order by   vechicle_count  desc\n",
        "'''\n",
        "execsql(query).show(50)\n",
        "\n",
        "# Interesting logic - admiring it"
      ],
      "metadata": {
        "id": "lb7eITfEknqi"
      },
      "execution_count": null,
      "outputs": []
    },
    {
      "cell_type": "code",
      "source": [
        "query = ''' select state,make, count(*)\n",
        "filter ( where make in ('Nissan','Ford','GM') and state in ('fl','tx') ) as vechicle_count\n",
        "from car_sales_test\n",
        " group by state,make\n",
        " with cube\n",
        " having vechicle_count <> 0\n",
        " order by   vechicle_count  desc\n",
        "'''\n",
        "execsql(query).show(50)\n",
        "\n",
        "# Interesting logic - admiring it"
      ],
      "metadata": {
        "id": "4W6wlLdelVRa"
      },
      "execution_count": null,
      "outputs": []
    },
    {
      "cell_type": "code",
      "source": [],
      "metadata": {
        "id": "PwzI9vAAlz_f"
      },
      "execution_count": null,
      "outputs": []
    }
  ]
}