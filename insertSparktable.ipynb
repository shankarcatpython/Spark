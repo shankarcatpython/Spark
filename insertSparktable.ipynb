{
  "nbformat": 4,
  "nbformat_minor": 0,
  "metadata": {
    "colab": {
      "provenance": [],
      "authorship_tag": "ABX9TyNQendyKHDiLGhDrN2nDvi1"
    },
    "kernelspec": {
      "name": "python3",
      "display_name": "Python 3"
    },
    "language_info": {
      "name": "python"
    }
  },
  "cells": [
    {
      "cell_type": "code",
      "execution_count": 1,
      "metadata": {
        "colab": {
          "base_uri": "https://localhost:8080/"
        },
        "id": "r12aLfaY8XES",
        "outputId": "d0dd4f4f-1a26-435a-f472-2c164cd4a491"
      },
      "outputs": [
        {
          "output_type": "stream",
          "name": "stdout",
          "text": [
            "Collecting pyspark\n",
            "  Downloading pyspark-3.5.0.tar.gz (316.9 MB)\n",
            "\u001b[2K     \u001b[90m━━━━━━━━━━━━━━━━━━━━━━━━━━━━━━━━━━━━━━━━\u001b[0m \u001b[32m316.9/316.9 MB\u001b[0m \u001b[31m2.8 MB/s\u001b[0m eta \u001b[36m0:00:00\u001b[0m\n",
            "\u001b[?25h  Preparing metadata (setup.py) ... \u001b[?25l\u001b[?25hdone\n",
            "Requirement already satisfied: py4j==0.10.9.7 in /usr/local/lib/python3.10/dist-packages (from pyspark) (0.10.9.7)\n",
            "Building wheels for collected packages: pyspark\n",
            "  Building wheel for pyspark (setup.py) ... \u001b[?25l\u001b[?25hdone\n",
            "  Created wheel for pyspark: filename=pyspark-3.5.0-py2.py3-none-any.whl size=317425345 sha256=709dac88c700bfa6dc45016b0c070865a2e89d55b7fb254b0e1ae683f61af6ac\n",
            "  Stored in directory: /root/.cache/pip/wheels/41/4e/10/c2cf2467f71c678cfc8a6b9ac9241e5e44a01940da8fbb17fc\n",
            "Successfully built pyspark\n",
            "Installing collected packages: pyspark\n",
            "Successfully installed pyspark-3.5.0\n"
          ]
        }
      ],
      "source": [
        "! pip install pyspark"
      ]
    },
    {
      "cell_type": "code",
      "source": [
        "from pyspark.sql import SparkSession"
      ],
      "metadata": {
        "id": "r8qE36J78fe2"
      },
      "execution_count": 2,
      "outputs": []
    },
    {
      "cell_type": "code",
      "source": [
        "spark = SparkSession.builder.appName(\"Inserts\").getOrCreate()"
      ],
      "metadata": {
        "id": "78Bvi3vC8vpE"
      },
      "execution_count": 3,
      "outputs": []
    },
    {
      "cell_type": "code",
      "source": [
        "create_table = '''\n",
        "CREATE TABLE students (name VARCHAR(64), address VARCHAR(64))\n",
        "    USING PARQUET PARTITIONED BY (student_id INT);\n",
        "'''"
      ],
      "metadata": {
        "id": "pV3wt-fw83Ya"
      },
      "execution_count": 4,
      "outputs": []
    },
    {
      "cell_type": "code",
      "source": [
        "spark.sql(create_table)"
      ],
      "metadata": {
        "colab": {
          "base_uri": "https://localhost:8080/"
        },
        "id": "V2gKiZaH89rQ",
        "outputId": "59e78d6a-6f79-4fac-dc1d-946d66dcb819"
      },
      "execution_count": 5,
      "outputs": [
        {
          "output_type": "execute_result",
          "data": {
            "text/plain": [
              "DataFrame[]"
            ]
          },
          "metadata": {},
          "execution_count": 5
        }
      ]
    },
    {
      "cell_type": "code",
      "source": [
        "insert_table = '''\n",
        "INSERT INTO students VALUES\n",
        "    ('Amy Smith', '123 Park Ave, San Jose', 111111);\n",
        "'''"
      ],
      "metadata": {
        "id": "1eN30CK-9Dxq"
      },
      "execution_count": 6,
      "outputs": []
    },
    {
      "cell_type": "code",
      "source": [
        "spark.sql(insert_table)"
      ],
      "metadata": {
        "colab": {
          "base_uri": "https://localhost:8080/"
        },
        "id": "5yAUB-9h9M0L",
        "outputId": "c92d0c87-f80d-415c-f5d5-2815523e56bc"
      },
      "execution_count": 7,
      "outputs": [
        {
          "output_type": "execute_result",
          "data": {
            "text/plain": [
              "DataFrame[]"
            ]
          },
          "metadata": {},
          "execution_count": 7
        }
      ]
    },
    {
      "cell_type": "code",
      "source": [
        "insert_table_multirows = '''\n",
        "INSERT INTO students VALUES\n",
        "    ('Bob Brown', '456 Taylor St, Cupertino', 222222),\n",
        "    ('Cathy Johnson', '789 Race Ave, Palo Alto', 333333);\n",
        "\n",
        "'''"
      ],
      "metadata": {
        "id": "3ebEL64B9Ros"
      },
      "execution_count": 9,
      "outputs": []
    },
    {
      "cell_type": "code",
      "source": [
        "spark.sql(insert_table_multirows)"
      ],
      "metadata": {
        "colab": {
          "base_uri": "https://localhost:8080/"
        },
        "id": "3pYYhI269g02",
        "outputId": "a1667b96-3133-4531-aacb-7bb82b626d98"
      },
      "execution_count": 10,
      "outputs": [
        {
          "output_type": "execute_result",
          "data": {
            "text/plain": [
              "DataFrame[]"
            ]
          },
          "metadata": {},
          "execution_count": 10
        }
      ]
    },
    {
      "cell_type": "code",
      "source": [
        "select_sql = '''\n",
        "SELECT * FROM students\n",
        "'''"
      ],
      "metadata": {
        "id": "jG3HdZbt9m3Y"
      },
      "execution_count": 11,
      "outputs": []
    },
    {
      "cell_type": "code",
      "source": [
        "spark.sql(select_sql).show()"
      ],
      "metadata": {
        "colab": {
          "base_uri": "https://localhost:8080/"
        },
        "id": "lpdK28_u-P73",
        "outputId": "b803b165-97b2-4821-87fc-25225f29387a"
      },
      "execution_count": 12,
      "outputs": [
        {
          "output_type": "stream",
          "name": "stdout",
          "text": [
            "+-------------+--------------------+----------+\n",
            "|         name|             address|student_id|\n",
            "+-------------+--------------------+----------+\n",
            "|Cathy Johnson|789 Race Ave, Pal...|    333333|\n",
            "|    Bob Brown|456 Taylor St, Cu...|    222222|\n",
            "|    Amy Smith|123 Park Ave, San...|    111111|\n",
            "+-------------+--------------------+----------+\n",
            "\n"
          ]
        }
      ]
    },
    {
      "cell_type": "code",
      "source": [
        "create_table = '''\n",
        "CREATE TABLE students_temp (name VARCHAR(64), address VARCHAR(64))\n",
        "    USING PARQUET PARTITIONED BY (student_id INT);\n",
        "'''\n",
        "\n",
        "spark.sql(create_table)"
      ],
      "metadata": {
        "colab": {
          "base_uri": "https://localhost:8080/"
        },
        "id": "xa0b4o0R-T_9",
        "outputId": "6d182d4d-6939-40b6-bd3e-d2e9c26f3d24"
      },
      "execution_count": 20,
      "outputs": [
        {
          "output_type": "execute_result",
          "data": {
            "text/plain": [
              "DataFrame[]"
            ]
          },
          "metadata": {},
          "execution_count": 20
        }
      ]
    },
    {
      "cell_type": "code",
      "source": [
        "insert_table_multirows = '''\n",
        "INSERT INTO students_temp VALUES\n",
        "    ('aob Brown', '156 Taylor St, Cupertino', 1422222),\n",
        "    ('bathy Johnson', '289 Race Ave, Palo Alto', 233333),\n",
        "     ('cob Brown', '356 Taylor St, Cupertino', 3422222),\n",
        "    ('dathy Johnson', '489 Race Ave, Palo Alto', 433333),\n",
        "     ('eob Brown', '556 Taylor St, Cupertino', 5422222),\n",
        "    ('fathy Johnson', '689 Race Ave, Palo Alto', 633333);\n",
        "\n",
        "'''\n",
        "\n",
        "spark.sql(insert_table_multirows)"
      ],
      "metadata": {
        "colab": {
          "base_uri": "https://localhost:8080/"
        },
        "id": "nn_KN-2k-8Ij",
        "outputId": "f25de4a1-fe09-4544-b939-2c013bfc6195"
      },
      "execution_count": 26,
      "outputs": [
        {
          "output_type": "execute_result",
          "data": {
            "text/plain": [
              "DataFrame[]"
            ]
          },
          "metadata": {},
          "execution_count": 26
        }
      ]
    },
    {
      "cell_type": "code",
      "source": [
        "select_student = '''\n",
        "select * from students\n",
        "'''\n",
        "select_student_temp ='''\n",
        "select * from students_temp\n",
        "'''"
      ],
      "metadata": {
        "id": "3-L1woB0_KxJ"
      },
      "execution_count": 22,
      "outputs": []
    },
    {
      "cell_type": "code",
      "source": [
        "spark.sql(select_student).show()"
      ],
      "metadata": {
        "colab": {
          "base_uri": "https://localhost:8080/"
        },
        "id": "3EvKfo_E_YxY",
        "outputId": "03f817c1-3fcb-4b53-e9a5-4e24cc935753"
      },
      "execution_count": 23,
      "outputs": [
        {
          "output_type": "stream",
          "name": "stdout",
          "text": [
            "+-------------+--------------------+----------+\n",
            "|         name|             address|student_id|\n",
            "+-------------+--------------------+----------+\n",
            "|Cathy Johnson|789 Race Ave, Pal...|    333333|\n",
            "|    Bob Brown|456 Taylor St, Cu...|    222222|\n",
            "|    Amy Smith|123 Park Ave, San...|    111111|\n",
            "+-------------+--------------------+----------+\n",
            "\n"
          ]
        }
      ]
    },
    {
      "cell_type": "code",
      "source": [
        "spark.sql(select_student_temp).show()"
      ],
      "metadata": {
        "colab": {
          "base_uri": "https://localhost:8080/"
        },
        "id": "Z6PGX1St_bgB",
        "outputId": "4d279773-9cab-4cba-c1c8-227dc99ff3a5"
      },
      "execution_count": 24,
      "outputs": [
        {
          "output_type": "stream",
          "name": "stdout",
          "text": [
            "+-------------+--------------------+----------+\n",
            "|         name|             address|student_id|\n",
            "+-------------+--------------------+----------+\n",
            "|dathy Johnson|489 Race Ave, Pal...|    433333|\n",
            "|fathy Johnson|689 Race Ave, Pal...|    633333|\n",
            "|bathy Johnson|289 Race Ave, Pal...|    233333|\n",
            "|    cob Brown|356 Taylor St, Cu...|   3422222|\n",
            "|    aob Brown|156 Taylor St, Cu...|   1422222|\n",
            "|    eob Brown|556 Taylor St, Cu...|   5422222|\n",
            "+-------------+--------------------+----------+\n",
            "\n"
          ]
        }
      ]
    },
    {
      "cell_type": "code",
      "source": [
        "onetable_to_another = '''\n",
        "Insert into students table students_temp\n",
        "'''\n",
        "\n",
        "spark.sql(onetable_to_another)"
      ],
      "metadata": {
        "colab": {
          "base_uri": "https://localhost:8080/"
        },
        "id": "Xv5IRQSzAKZC",
        "outputId": "66eada76-d6e8-43ef-ba23-ed1838c85855"
      },
      "execution_count": 25,
      "outputs": [
        {
          "output_type": "execute_result",
          "data": {
            "text/plain": [
              "DataFrame[]"
            ]
          },
          "metadata": {},
          "execution_count": 25
        }
      ]
    },
    {
      "cell_type": "code",
      "source": [
        "insert_table_multirows = '''\n",
        "INSERT INTO students_temp partition (student_id = 9999) VALUES\n",
        "    ('aob Brown2', '156 Taylor St Cupertino');\n",
        "\n",
        "'''\n",
        "\n",
        "spark.sql(insert_table_multirows)"
      ],
      "metadata": {
        "colab": {
          "base_uri": "https://localhost:8080/"
        },
        "id": "gS_MF-AhAchU",
        "outputId": "41166c9e-e1fb-4b5c-8da0-c79787644fad"
      },
      "execution_count": 32,
      "outputs": [
        {
          "output_type": "execute_result",
          "data": {
            "text/plain": [
              "DataFrame[]"
            ]
          },
          "metadata": {},
          "execution_count": 32
        }
      ]
    },
    {
      "cell_type": "code",
      "source": [
        "insert_table_multirows = '''\n",
        "INSERT OVERWRITE students_temp VALUES\n",
        "    ('aob Brown2', 'fff Taylor St Cupertino',233333);\n",
        "\n",
        "'''\n",
        "\n",
        "spark.sql(insert_table_multirows)\n",
        "\n",
        "# overriding entier table"
      ],
      "metadata": {
        "colab": {
          "base_uri": "https://localhost:8080/"
        },
        "id": "La9vELucCdAB",
        "outputId": "9be09d5c-43a8-4f67-e5b7-b22c8a31e18a"
      },
      "execution_count": 37,
      "outputs": [
        {
          "output_type": "execute_result",
          "data": {
            "text/plain": [
              "DataFrame[]"
            ]
          },
          "metadata": {},
          "execution_count": 37
        }
      ]
    },
    {
      "cell_type": "code",
      "source": [
        "spark.sql(select_student_temp).show()"
      ],
      "metadata": {
        "colab": {
          "base_uri": "https://localhost:8080/"
        },
        "id": "z4-OjD-rBawK",
        "outputId": "b92e8af1-bd65-47d0-b5c1-a29a2efc246e"
      },
      "execution_count": 42,
      "outputs": [
        {
          "output_type": "stream",
          "name": "stdout",
          "text": [
            "+----------+--------------------+----------+\n",
            "|      name|             address|student_id|\n",
            "+----------+--------------------+----------+\n",
            "|aob Brown2|fff Taylor St Cup...|    233333|\n",
            "+----------+--------------------+----------+\n",
            "\n"
          ]
        }
      ]
    }
  ]
}