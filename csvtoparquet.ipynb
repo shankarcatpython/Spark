{
  "nbformat": 4,
  "nbformat_minor": 0,
  "metadata": {
    "colab": {
      "provenance": [],
      "authorship_tag": "ABX9TyPs22gkfEJECGmGkviG3E+1"
    },
    "kernelspec": {
      "name": "python3",
      "display_name": "Python 3"
    },
    "language_info": {
      "name": "python"
    }
  },
  "cells": [
    {
      "cell_type": "code",
      "execution_count": 1,
      "metadata": {
        "id": "cB5txzpWf7Lu"
      },
      "outputs": [],
      "source": [
        "import pyarrow as pa\n",
        "import pandas as pd\n",
        "import pyarrow.parquet as pq"
      ]
    },
    {
      "cell_type": "code",
      "source": [
        "input_file_path = r'/content/sample_data/california_housing_test.csv'\n",
        "out_file_path = r'/content/sample_data/california_housing_pq.parquet'\n",
        "\n",
        "dataframe_csv = pd.read_csv(input_file_path)\n",
        "pyarrow_table = pa.Table.from_pandas(dataframe_csv)\n",
        "\n",
        "dataframe_csv = pd.read_csv(input_file_path)\n",
        "pq.write_table(pyarrow_table,out_file_path)\n"
      ],
      "metadata": {
        "id": "j3K5tqi0gAqS"
      },
      "execution_count": 2,
      "outputs": []
    },
    {
      "cell_type": "code",
      "source": [
        "pyarrow_table"
      ],
      "metadata": {
        "colab": {
          "base_uri": "https://localhost:8080/"
        },
        "id": "InpXfrJCHmzH",
        "outputId": "293cc8e7-d85b-4b7e-9786-a05041fe6aa2"
      },
      "execution_count": 3,
      "outputs": [
        {
          "output_type": "execute_result",
          "data": {
            "text/plain": [
              "pyarrow.Table\n",
              "longitude: double\n",
              "latitude: double\n",
              "housing_median_age: double\n",
              "total_rooms: double\n",
              "total_bedrooms: double\n",
              "population: double\n",
              "households: double\n",
              "median_income: double\n",
              "median_house_value: double\n",
              "----\n",
              "longitude: [[-122.05,-118.3,-117.81,-118.36,-119.67,...,-119.86,-118.14,-119.7,-117.12,-119.63]]\n",
              "latitude: [[37.37,34.26,33.78,33.82,36.33,...,34.42,34.06,36.3,34.1,34.42]]\n",
              "housing_median_age: [[27,43,27,28,19,...,23,27,10,40,42]]\n",
              "total_rooms: [[3885,1510,3589,67,1241,...,1450,5257,956,96,1765]]\n",
              "total_bedrooms: [[661,310,507,15,244,...,642,1082,201,14,263]]\n",
              "population: [[1537,809,1484,49,850,...,1258,3496,693,46,753]]\n",
              "households: [[606,277,495,11,237,...,607,1036,220,14,260]]\n",
              "median_income: [[6.6085,3.599,5.7934,6.1359,2.9375,...,1.179,3.3906,2.2895,3.2708,8.5608]]\n",
              "median_house_value: [[344700,176500,270500,330000,81700,...,225000,237200,62000,162500,500001]]"
            ]
          },
          "metadata": {},
          "execution_count": 3
        }
      ]
    }
  ]
}