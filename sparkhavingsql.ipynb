{
  "nbformat": 4,
  "nbformat_minor": 0,
  "metadata": {
    "colab": {
      "private_outputs": true,
      "provenance": [],
      "authorship_tag": "ABX9TyNDyObHa+t53L3LGRqjo+NO"
    },
    "kernelspec": {
      "name": "python3",
      "display_name": "Python 3"
    },
    "language_info": {
      "name": "python"
    }
  },
  "cells": [
    {
      "cell_type": "code",
      "execution_count": null,
      "metadata": {
        "id": "BtSMmd79OnYP"
      },
      "outputs": [],
      "source": [
        "! pip install pyspark"
      ]
    },
    {
      "cell_type": "code",
      "source": [
        "from pyspark.sql import SparkSession\n",
        "from pyspark.sql.types import StructType, StructField, StringType, IntegerType\n",
        "spark = SparkSession.builder.appName(\"my_app\").getOrCreate()\n",
        "schema_car = StructType([StructField(\"year\", StringType(), True)\n",
        " ,StructField(\"make\", StringType(), True)\n",
        " ,StructField(\"model\", StringType(), True)\n",
        " ,StructField(\"trim\", StringType(), True)\n",
        " ,StructField(\"body\", StringType(), True)\n",
        " ,StructField(\"transmission\", StringType(), True)\n",
        " ,StructField(\"vin\", StringType(), True)\n",
        " ,StructField(\"state\", StringType(), True)\n",
        " ,StructField(\"condition\", IntegerType(), True)\n",
        " ,StructField(\"odometer\", IntegerType(), True)\n",
        " ,StructField(\"color\", StringType(), True)\n",
        " ,StructField(\"interior\", StringType(), True)\n",
        " ,StructField(\"seller\", StringType(), True)\n",
        " ,StructField(\"mmr\", IntegerType(), True)\n",
        " ,StructField(\"sellingprice\", IntegerType(), True)\n",
        " ,StructField(\"saledate\", StringType(), True)\n",
        "])"
      ],
      "metadata": {
        "id": "QPZChnQWQa_R"
      },
      "execution_count": null,
      "outputs": []
    },
    {
      "cell_type": "code",
      "source": [
        "spark_cardataframe = spark.read.option(\"header\", True).csv(r'/content/car_prices.csv',schema=schema_car)"
      ],
      "metadata": {
        "id": "uH112tGOQdJz"
      },
      "execution_count": null,
      "outputs": []
    },
    {
      "cell_type": "code",
      "source": [
        "spark_cardataframe.printSchema()"
      ],
      "metadata": {
        "id": "dEXBLYleQhvl"
      },
      "execution_count": null,
      "outputs": []
    },
    {
      "cell_type": "code",
      "source": [
        "spark_cardataframe.show(n=2,vertical=True,truncate=150)"
      ],
      "metadata": {
        "id": "0v02f0LEQl5V"
      },
      "execution_count": null,
      "outputs": []
    },
    {
      "cell_type": "code",
      "source": [
        "spark_cardataframe.createOrReplaceTempView(\"car_sales_test\")"
      ],
      "metadata": {
        "id": "RTMOtmK_QnI7"
      },
      "execution_count": null,
      "outputs": []
    },
    {
      "cell_type": "code",
      "source": [
        "def execsql(query):\n",
        "    return(spark.sql(query))\n",
        "\n",
        "select_count = 'select count(*) from car_sales_test;'"
      ],
      "metadata": {
        "id": "3ADivu4JQvb5"
      },
      "execution_count": null,
      "outputs": []
    },
    {
      "cell_type": "code",
      "source": [
        "execsql(select_count).show()"
      ],
      "metadata": {
        "id": "yJIG2hp1Q671"
      },
      "execution_count": null,
      "outputs": []
    },
    {
      "cell_type": "code",
      "source": [
        "query = '''select first(year) , last(year) from (select distinct year\n",
        "from car_sales_test\n",
        "order by year)\n",
        "'''\n",
        "\n",
        "execsql(query).show(100)"
      ],
      "metadata": {
        "id": "IPVHmyAaXZmA"
      },
      "execution_count": null,
      "outputs": []
    },
    {
      "cell_type": "code",
      "source": [
        "query = '''select first(year) , last(year)\n",
        "from car_sales_test\n",
        "'''\n",
        "\n",
        "execsql(query).show(100)"
      ],
      "metadata": {
        "id": "KxXWz-24nr6O"
      },
      "execution_count": null,
      "outputs": []
    },
    {
      "cell_type": "code",
      "source": [
        "query = '''select make, count(*)\n",
        "from car_sales_test\n",
        "group by make\n",
        "having make = 'Nissan'\n",
        "'''\n",
        "\n",
        "execsql(query).show(100)"
      ],
      "metadata": {
        "id": "5O3-5UlRod0V"
      },
      "execution_count": null,
      "outputs": []
    },
    {
      "cell_type": "code",
      "source": [
        "query = '''select make,count(*)\n",
        "from car_sales_test\n",
        "group by make\n",
        "having make IS not NULL\n",
        "'''\n",
        "\n",
        "execsql(query).show(5)"
      ],
      "metadata": {
        "id": "sqP-fd3Loxc2"
      },
      "execution_count": null,
      "outputs": []
    },
    {
      "cell_type": "code",
      "source": [
        "query = '''select make,count(*) as vechicle_count\n",
        "from car_sales_test\n",
        "group by make\n",
        "having vechicle_count > 500\n",
        "'''\n",
        "\n",
        "execsql(query).show(10)"
      ],
      "metadata": {
        "id": "qi7S4xK7o9cj"
      },
      "execution_count": null,
      "outputs": []
    },
    {
      "cell_type": "code",
      "source": [
        "query = '''\n",
        "select state,sum(vechicle_count) as sum from\n",
        "(select state,make,count(*) as vechicle_count\n",
        "from car_sales_test\n",
        "group by state,make\n",
        "having vechicle_count > 1)\n",
        "group by state\n",
        "order by sum(vechicle_count) desc\n",
        "'''\n",
        "\n",
        "execsql(query).show(100)"
      ],
      "metadata": {
        "id": "nisAZjXKq3iX"
      },
      "execution_count": null,
      "outputs": []
    },
    {
      "cell_type": "code",
      "source": [
        "query = '''\n",
        "select state,sum(vechicle_count) as sum_vechicle ,max(vechicle_count) as max_vechicle , min(vechicle_count) as min_vechicle from\n",
        "(select state,make,count(*) as vechicle_count\n",
        "from car_sales_test\n",
        "group by state,make\n",
        "having vechicle_count > 1)\n",
        "group by state\n",
        "having max(vechicle_count) > 10\n",
        "order by sum_vechicle desc\n",
        "'''\n",
        "\n",
        "execsql(query).show(100)"
      ],
      "metadata": {
        "id": "DO9t97oirfXt"
      },
      "execution_count": null,
      "outputs": []
    },
    {
      "cell_type": "code",
      "source": [
        "query = '''\n",
        "select sum(vechicle_count) as sum_vechicle from\n",
        "(select state,make,count(*) as vechicle_count\n",
        "from car_sales_test\n",
        "group by state,make\n",
        "having vechicle_count > 1)\n",
        "having sum(vechicle_count) > 100\n",
        "order by sum_vechicle desc\n",
        "'''\n",
        "\n",
        "execsql(query).show(100)"
      ],
      "metadata": {
        "id": "ldhKtjkosqgs"
      },
      "execution_count": null,
      "outputs": []
    },
    {
      "cell_type": "code",
      "source": [
        "query = '''\n",
        "select state,sum(vechicle_count) as sum_vechicle ,max(vechicle_count) as max_vechicle , min(vechicle_count) as min_vechicle from\n",
        "(select state,make,count(*) as vechicle_count\n",
        "from car_sales_test\n",
        "group by state,make\n",
        "having vechicle_count > 1)\n",
        "group by state\n",
        "having 1 > 0\n",
        "order by sum_vechicle desc\n",
        "'''\n",
        "\n",
        "execsql(query).show(100)"
      ],
      "metadata": {
        "id": "LAAhzud2uymV"
      },
      "execution_count": null,
      "outputs": []
    },
    {
      "cell_type": "code",
      "source": [
        "query = '''\n",
        "select distinct make from car_sales_test\n",
        "'''\n",
        "\n",
        "execsql(query).show(100)"
      ],
      "metadata": {
        "id": "NZvJOJMfxWYT"
      },
      "execution_count": null,
      "outputs": []
    },
    {
      "cell_type": "code",
      "source": [
        "query = '''\n",
        "select LAST(make IGNORE NULLS) from car_sales_test\n",
        "'''\n",
        "\n",
        "execsql(query).show(100)"
      ],
      "metadata": {
        "id": "pHUdTU2xxc2R"
      },
      "execution_count": null,
      "outputs": []
    },
    {
      "cell_type": "code",
      "source": [],
      "metadata": {
        "id": "IBp_j1o7x4xP"
      },
      "execution_count": null,
      "outputs": []
    }
  ]
}