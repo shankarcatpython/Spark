{
  "nbformat": 4,
  "nbformat_minor": 0,
  "metadata": {
    "colab": {
      "private_outputs": true,
      "provenance": [],
      "authorship_tag": "ABX9TyMrc0Gl01HblWSSAIDIjDPK"
    },
    "kernelspec": {
      "name": "python3",
      "display_name": "Python 3"
    },
    "language_info": {
      "name": "python"
    }
  },
  "cells": [
    {
      "cell_type": "code",
      "execution_count": null,
      "metadata": {
        "id": "mj7NCoDe-WHW"
      },
      "outputs": [],
      "source": [
        "! pip install pyspark"
      ]
    },
    {
      "cell_type": "code",
      "source": [
        "import pandas as pd\n",
        "car_dataframe = pd.read_csv(r'/content/car_prices.csv')\n",
        "\n",
        "from pyspark.sql import SparkSession\n",
        "from pyspark.sql.types import StructType, StructField, StringType, IntegerType\n",
        "\n",
        "spark = SparkSession.builder.appName(\"car_app\").getOrCreate()\n",
        "\n",
        "schema_car = StructType([StructField(\"year\", StringType(), True)\n",
        " ,StructField(\"make\", StringType(), True)\n",
        " ,StructField(\"model\", StringType(), True)\n",
        " ,StructField(\"trim\", StringType(), True)\n",
        " ,StructField(\"body\", StringType(), True)\n",
        " ,StructField(\"transmission\", StringType(), True)\n",
        " ,StructField(\"vin\", StringType(), True)\n",
        " ,StructField(\"state\", StringType(), True)\n",
        " ,StructField(\"condition\", IntegerType(), True)\n",
        " ,StructField(\"odometer\", IntegerType(), True)\n",
        " ,StructField(\"color\", StringType(), True)\n",
        " ,StructField(\"interior\", StringType(), True)\n",
        " ,StructField(\"seller\", StringType(), True)\n",
        " ,StructField(\"mmr\", IntegerType(), True)\n",
        " ,StructField(\"sellingprice\", IntegerType(), True)\n",
        " ,StructField(\"saledate\", StringType(), True)\n",
        "])\n",
        "spark_cardataframe = spark.read.option(\"header\", True).csv(r'/content/car_prices.csv',schema=schema_car)\n",
        "spark_cardataframe.createOrReplaceTempView('car_sales_test')"
      ],
      "metadata": {
        "id": "skrWEMBj-bie"
      },
      "execution_count": null,
      "outputs": []
    },
    {
      "cell_type": "code",
      "source": [
        "spark_cardataframe.printSchema()"
      ],
      "metadata": {
        "id": "CDK0SA5bBuzm"
      },
      "execution_count": null,
      "outputs": []
    },
    {
      "cell_type": "code",
      "source": [
        "def execsql(query):\n",
        "  spark.sql(query).show(50)"
      ],
      "metadata": {
        "id": "y_9vUTCjA_n3"
      },
      "execution_count": null,
      "outputs": []
    },
    {
      "cell_type": "code",
      "source": [
        "query_string = '''select vin\n",
        "from car_sales_test\n",
        ";\n",
        "'''\n",
        "execsql(query_string)"
      ],
      "metadata": {
        "id": "dlIo94xTBKQ5"
      },
      "execution_count": null,
      "outputs": []
    },
    {
      "cell_type": "code",
      "source": [
        "query_string = '''select vin\n",
        "from car_sales_test\n",
        "where vin like '5%'\n",
        ";\n",
        "'''\n",
        "execsql(query_string)"
      ],
      "metadata": {
        "id": "MKgYH9HhB306"
      },
      "execution_count": null,
      "outputs": []
    },
    {
      "cell_type": "code",
      "source": [
        "query_string = '''select vin\n",
        "from car_sales_test\n",
        "where vin like '5_______________7'\n",
        ";\n",
        "'''\n",
        "execsql(query_string)"
      ],
      "metadata": {
        "id": "d-KccwQiCQWy"
      },
      "execution_count": null,
      "outputs": []
    },
    {
      "cell_type": "code",
      "source": [
        "query_string = '''select vin\n",
        "from car_sales_test\n",
        "where vin not like '5_______________7'\n",
        ";\n",
        "'''\n",
        "execsql(query_string)"
      ],
      "metadata": {
        "id": "Ls5wlYGWCcT5"
      },
      "execution_count": null,
      "outputs": []
    },
    {
      "cell_type": "code",
      "source": [
        "query_string = '''select count(vin)\n",
        "from car_sales_test\n",
        "where vin LIKE 'w%'\n",
        ";\n",
        "'''\n",
        "execsql(query_string)"
      ],
      "metadata": {
        "id": "pjhnvBeGCv69"
      },
      "execution_count": null,
      "outputs": []
    },
    {
      "cell_type": "code",
      "source": [
        "query_string = '''select count(vin)\n",
        "from car_sales_test\n",
        "where vin RLIKE 'w+'\n",
        ";\n",
        "'''\n",
        "execsql(query_string)"
      ],
      "metadata": {
        "id": "1-6PqHCRDF60"
      },
      "execution_count": null,
      "outputs": []
    },
    {
      "cell_type": "code",
      "source": [
        "query_string = '''select vin\n",
        "from car_sales_test\n",
        "where vin RLIKE 'w+'\n",
        "except\n",
        "select vin\n",
        "from car_sales_test\n",
        "where vin LIKE 'w%'\n",
        ";\n",
        "'''\n",
        "execsql(query_string)"
      ],
      "metadata": {
        "id": "cwvXfLjrFJe1"
      },
      "execution_count": null,
      "outputs": []
    },
    {
      "cell_type": "code",
      "source": [
        "query_string = '''select vin\n",
        "from car_sales_test\n",
        "where vin REGEXP 'w+'\n",
        "except\n",
        "select vin\n",
        "from car_sales_test\n",
        "where vin RLIKE 'w+'\n",
        ";\n",
        "'''\n",
        "execsql(query_string)"
      ],
      "metadata": {
        "id": "NFlSC2taFVY6"
      },
      "execution_count": null,
      "outputs": []
    },
    {
      "cell_type": "code",
      "source": [
        "query_string = '''select vin\n",
        "from car_sales_test\n",
        "where vin like all ('%22%', '%07')\n",
        ";\n",
        "'''\n",
        "execsql(query_string)"
      ],
      "metadata": {
        "id": "zjT1pRthHjyM"
      },
      "execution_count": null,
      "outputs": []
    },
    {
      "cell_type": "code",
      "source": [
        "query_string = '''select vin\n",
        "from car_sales_test\n",
        "where vin like any ('%22%', '%07')\n",
        ";\n",
        "'''\n",
        "execsql(query_string)"
      ],
      "metadata": {
        "id": "7RpGBEgIH-eb"
      },
      "execution_count": null,
      "outputs": []
    },
    {
      "cell_type": "code",
      "source": [
        "query_string = '''select count(vin)\n",
        "from car_sales_test\n",
        "where vin like some ('%22%', '%07')\n",
        ";\n",
        "'''\n",
        "execsql(query_string)\n",
        "\n",
        "query_string = '''select count(vin)\n",
        "from car_sales_test\n",
        "where vin like any ('%22%', '%07')\n",
        ";\n",
        "'''\n",
        "execsql(query_string)"
      ],
      "metadata": {
        "id": "l3KdnKDeH_l6"
      },
      "execution_count": null,
      "outputs": []
    },
    {
      "cell_type": "code",
      "source": [
        "query_string = '''select count(vin)\n",
        "from car_sales_test\n",
        "where vin like '%$_' escape '$'\n",
        ";\n",
        "'''\n",
        "execsql(query_string)\n"
      ],
      "metadata": {
        "id": "_sfl4IesIB-0"
      },
      "execution_count": null,
      "outputs": []
    },
    {
      "cell_type": "code",
      "source": [
        "query_string = '''select count(vin)\n",
        "from car_sales_test\n",
        "where vin like '\\_'\n",
        ";\n",
        "'''\n",
        "execsql(query_string)"
      ],
      "metadata": {
        "id": "Kp46IZNtJ1Tz"
      },
      "execution_count": null,
      "outputs": []
    },
    {
      "cell_type": "code",
      "source": [
        "query_string = '''select model,year,make,vin\n",
        "from car_sales_test\n",
        "order by model\n",
        "limit length('model')\n",
        ";\n",
        "'''\n",
        "execsql(query_string)"
      ],
      "metadata": {
        "id": "FcjbVUIhJlG3"
      },
      "execution_count": null,
      "outputs": []
    },
    {
      "cell_type": "code",
      "source": [
        "query_string = '''select model,year,make,vin\n",
        "from car_sales_test\n",
        "order by model\n",
        "limit all\n",
        ";\n",
        "'''\n",
        "execsql(query_string)"
      ],
      "metadata": {
        "id": "ef7dt0KwKM0a"
      },
      "execution_count": null,
      "outputs": []
    },
    {
      "cell_type": "code",
      "source": [
        "query_string = '''select model,year,make,vin\n",
        "from car_sales_test\n",
        "where model is not null\n",
        "order by model\n",
        "limit all\n",
        ";\n",
        "'''\n",
        "execsql(query_string)"
      ],
      "metadata": {
        "id": "ZBcWAnqMKxjE"
      },
      "execution_count": null,
      "outputs": []
    },
    {
      "cell_type": "code",
      "source": [
        "query_string = '''select model,year,make,vin\n",
        "from car_sales_test\n",
        "where model is not null\n",
        "limit 10\n",
        ";\n",
        "'''\n",
        "execsql(query_string)"
      ],
      "metadata": {
        "id": "dGwS6SRUK3hk"
      },
      "execution_count": null,
      "outputs": []
    },
    {
      "cell_type": "code",
      "source": [
        "query_string = '''select model,year,make,vin\n",
        "from car_sales_test\n",
        "where model is not null\n",
        "limit 10 offset 2\n",
        ";\n",
        "'''\n",
        "execsql(query_string)"
      ],
      "metadata": {
        "id": "V9BgLar_LLz9"
      },
      "execution_count": null,
      "outputs": []
    },
    {
      "cell_type": "code",
      "source": [
        "query_string = '''select model,year,make,vin\n",
        "from car_sales_test\n",
        "where model is not null\n",
        "offset 2\n",
        ";\n",
        "'''\n",
        "execsql(query_string)"
      ],
      "metadata": {
        "id": "eDAb75IyLfGG"
      },
      "execution_count": null,
      "outputs": []
    },
    {
      "cell_type": "code",
      "source": [
        "query_string = '''select model,year,make,vin\n",
        "from car_sales_test\n",
        "where model is not null\n",
        "limit 10 offset length('sparklearning')\n",
        "\n",
        ";\n",
        "'''\n",
        "execsql(query_string)"
      ],
      "metadata": {
        "id": "Q_VkEuETLm68"
      },
      "execution_count": null,
      "outputs": []
    },
    {
      "cell_type": "code",
      "source": [
        "query_string = '''select model,year,make,vin\n",
        "from car_sales_test\n",
        "order by model nulls last\n",
        ";\n",
        "'''\n",
        "execsql(query_string)"
      ],
      "metadata": {
        "id": "0lJC35gwLxwv"
      },
      "execution_count": null,
      "outputs": []
    },
    {
      "cell_type": "code",
      "source": [
        "query_string = '''select model,year,make,vin\n",
        "from car_sales_test\n",
        "order by model nulls first\n",
        ";\n",
        "'''\n",
        "execsql(query_string)"
      ],
      "metadata": {
        "id": "WDtKoxYbMJ--"
      },
      "execution_count": null,
      "outputs": []
    },
    {
      "cell_type": "code",
      "source": [
        "query_string = '''select model,year,make,vin\n",
        "from car_sales_test\n",
        "order by model nulls first\n",
        ";\n",
        "'''\n",
        "execsql(query_string)"
      ],
      "metadata": {
        "id": "C18NJj6tMPNa"
      },
      "execution_count": null,
      "outputs": []
    },
    {
      "cell_type": "code",
      "source": [
        "query_string = '''select vin\n",
        "from car_sales_test\n",
        "where vin RLIKE 'w+'\n",
        "union\n",
        "select vin\n",
        "from car_sales_test\n",
        "where vin LIKE '%r%'\n",
        ";\n",
        "'''\n",
        "execsql(query_string)"
      ],
      "metadata": {
        "id": "3Ajis_e9MgQe"
      },
      "execution_count": null,
      "outputs": []
    },
    {
      "cell_type": "code",
      "source": [
        "query_string = '''select vin\n",
        "from car_sales_test\n",
        "where vin RLIKE 'w+'\n",
        "union all\n",
        "select vin\n",
        "from car_sales_test\n",
        "where vin LIKE '%r%'\n",
        ";\n",
        "'''\n",
        "execsql(query_string)"
      ],
      "metadata": {
        "id": "l0yMLoOoMupT"
      },
      "execution_count": null,
      "outputs": []
    },
    {
      "cell_type": "code",
      "source": [
        "query_string = '''select vin\n",
        "from car_sales_test\n",
        "where vin RLIKE 'w+'\n",
        "minus\n",
        "select vin\n",
        "from car_sales_test\n",
        "where vin LIKE '%r%'\n",
        ";\n",
        "'''\n",
        "execsql(query_string)"
      ],
      "metadata": {
        "id": "LEDszT9HMyJv"
      },
      "execution_count": null,
      "outputs": []
    },
    {
      "cell_type": "code",
      "source": [
        "query_string = '''select vin\n",
        "from car_sales_test\n",
        "where vin RLIKE 'w+'\n",
        "except\n",
        "select vin\n",
        "from car_sales_test\n",
        "where vin LIKE '%r%'\n",
        ";\n",
        "'''\n",
        "execsql(query_string)"
      ],
      "metadata": {
        "id": "3Tnbihb4M3Q0"
      },
      "execution_count": null,
      "outputs": []
    },
    {
      "cell_type": "code",
      "source": [
        "query_string = '''select vin\n",
        "from car_sales_test\n",
        "where vin RLIKE 'w+'\n",
        "intersect\n",
        "select vin\n",
        "from car_sales_test\n",
        "where vin LIKE '%r%'\n",
        ";\n",
        "'''\n",
        "execsql(query_string)"
      ],
      "metadata": {
        "id": "ysiG_DyfM6p6"
      },
      "execution_count": null,
      "outputs": []
    },
    {
      "cell_type": "code",
      "source": [
        "query_string = '''select vin\n",
        "from car_sales_test\n",
        "where vin RLIKE 'w+'\n",
        "intersect all\n",
        "select vin\n",
        "from car_sales_test\n",
        "where vin LIKE '%r%'\n",
        ";\n",
        "'''\n",
        "execsql(query_string)"
      ],
      "metadata": {
        "id": "9LLPuHDKNA55"
      },
      "execution_count": null,
      "outputs": []
    },
    {
      "cell_type": "code",
      "source": [
        "query_string = '''select vin\n",
        "from car_sales_test\n",
        "where vin RLIKE 'w+'\n",
        "intersect all\n",
        "select vin\n",
        "from car_sales_test\n",
        "where vin LIKE '%r%'\n",
        ";\n",
        "'''\n",
        "execsql(query_string)"
      ],
      "metadata": {
        "id": "Rd8_iDDOND-b"
      },
      "execution_count": null,
      "outputs": []
    }
  ]
}